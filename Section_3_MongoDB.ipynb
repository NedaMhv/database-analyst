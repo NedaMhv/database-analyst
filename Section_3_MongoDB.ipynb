{
  "nbformat": 4,
  "nbformat_minor": 0,
  "metadata": {
    "colab": {
      "provenance": [],
      "gpuType": "T4",
      "mount_file_id": "1fuKz3XttCzcHYT4hWTCfWehlIXw_v3R1",
      "authorship_tag": "ABX9TyPY7kH6ZuyYzpG1ok8fnP57",
      "include_colab_link": true
    },
    "kernelspec": {
      "name": "python3",
      "display_name": "Python 3"
    },
    "language_info": {
      "name": "python"
    },
    "accelerator": "GPU"
  },
  "cells": [
    {
      "cell_type": "markdown",
      "metadata": {
        "id": "view-in-github",
        "colab_type": "text"
      },
      "source": [
        "<a href=\"https://colab.research.google.com/github/NedaMhv/database-analyst/blob/main/Section_3_MongoDB.ipynb\" target=\"_parent\"><img src=\"https://colab.research.google.com/assets/colab-badge.svg\" alt=\"Open In Colab\"/></a>"
      ]
    },
    {
      "cell_type": "code",
      "execution_count": 49,
      "metadata": {
        "colab": {
          "base_uri": "https://localhost:8080/"
        },
        "id": "SQHkBlyUPigi",
        "outputId": "aadba0b0-a507-4253-9b45-95a7a2831775"
      },
      "outputs": [
        {
          "output_type": "stream",
          "name": "stdout",
          "text": [
            "Looking in indexes: https://pypi.org/simple, https://us-python.pkg.dev/colab-wheels/public/simple/\n",
            "Requirement already satisfied: pymongo in /usr/local/lib/python3.10/dist-packages (4.3.3)\n",
            "Requirement already satisfied: dnspython<3.0.0,>=1.16.0 in /usr/local/lib/python3.10/dist-packages (from pymongo) (2.3.0)\n"
          ]
        }
      ],
      "source": [
        "# 1.Install pymongo by pip\n",
        "!pip install pymongo"
      ]
    },
    {
      "cell_type": "code",
      "source": [
        "import pymongo\n"
      ],
      "metadata": {
        "id": "PFSkXkDGPJC8"
      },
      "execution_count": 50,
      "outputs": []
    },
    {
      "cell_type": "code",
      "source": [
        "# 2.Import MongoClient from pymongo in project\n",
        "from pymongo import MongoClient"
      ],
      "metadata": {
        "id": "xix9IF0HP6jC"
      },
      "execution_count": 51,
      "outputs": []
    },
    {
      "cell_type": "code",
      "source": [
        "from google.colab import drive\n",
        "\n",
        "# Mount Google Drive\n",
        "drive.mount('/content/drive')\n"
      ],
      "metadata": {
        "colab": {
          "base_uri": "https://localhost:8080/"
        },
        "id": "IFmaByDBN3WL",
        "outputId": "71346631-f9dc-4036-84f8-5d8f8b193d9b"
      },
      "execution_count": 5,
      "outputs": [
        {
          "output_type": "stream",
          "name": "stdout",
          "text": [
            "Drive already mounted at /content/drive; to attempt to forcibly remount, call drive.mount(\"/content/drive\", force_remount=True).\n"
          ]
        }
      ]
    },
    {
      "cell_type": "code",
      "source": [
        "# Specify the path to the text file containing the MongoDB string\n",
        "mongodb_string_file = '/content/drive/MyDrive/mongodb_string.txt'\n",
        "\n",
        "# Load the MongoDB string from the file\n",
        "with open(mongodb_string_file, 'r') as file:\n",
        "    mongodb_string = file.read().strip()\n"
      ],
      "metadata": {
        "id": "odm3O1WLOBQ0"
      },
      "execution_count": 52,
      "outputs": []
    },
    {
      "cell_type": "code",
      "source": [
        "client = pymongo.MongoClient(mongodb_string)"
      ],
      "metadata": {
        "id": "CRrdin09Omy-"
      },
      "execution_count": 53,
      "outputs": []
    },
    {
      "cell_type": "code",
      "source": [
        "# 4.Show the list of all databases\n",
        "for db in client.list_databases():\n",
        " print(db)"
      ],
      "metadata": {
        "colab": {
          "base_uri": "https://localhost:8080/"
        },
        "id": "n_SdRdz-Qbgn",
        "outputId": "c3ce3f41-61f7-49ce-c284-c75392c980aa"
      },
      "execution_count": 54,
      "outputs": [
        {
          "output_type": "stream",
          "name": "stdout",
          "text": [
            "{'name': 'amazon', 'sizeOnDisk': 471040, 'empty': False}\n",
            "{'name': 'sample_airbnb', 'sizeOnDisk': 55095296, 'empty': False}\n",
            "{'name': 'sample_analytics', 'sizeOnDisk': 9687040, 'empty': False}\n",
            "{'name': 'sample_geospatial', 'sizeOnDisk': 1404928, 'empty': False}\n",
            "{'name': 'sample_guides', 'sizeOnDisk': 40960, 'empty': False}\n",
            "{'name': 'sample_mflix', 'sizeOnDisk': 49184768, 'empty': False}\n",
            "{'name': 'sample_restaurants', 'sizeOnDisk': 6897664, 'empty': False}\n",
            "{'name': 'sample_supplies', 'sizeOnDisk': 1191936, 'empty': False}\n",
            "{'name': 'sample_training', 'sizeOnDisk': 52801536, 'empty': False}\n",
            "{'name': 'sample_weatherdata', 'sizeOnDisk': 2908160, 'empty': False}\n",
            "{'name': 'admin', 'sizeOnDisk': 344064, 'empty': False}\n",
            "{'name': 'local', 'sizeOnDisk': 21048107008, 'empty': False}\n"
          ]
        }
      ]
    },
    {
      "cell_type": "code",
      "source": [
        "print(client.list_database_names())"
      ],
      "metadata": {
        "colab": {
          "base_uri": "https://localhost:8080/"
        },
        "id": "bhZ6VhYHRXTU",
        "outputId": "a9baf270-d68a-4a45-8448-1cf59efdee8a"
      },
      "execution_count": 55,
      "outputs": [
        {
          "output_type": "stream",
          "name": "stdout",
          "text": [
            "['amazon', 'sample_airbnb', 'sample_analytics', 'sample_geospatial', 'sample_guides', 'sample_mflix', 'sample_restaurants', 'sample_supplies', 'sample_training', 'sample_weatherdata', 'admin', 'local']\n"
          ]
        }
      ]
    },
    {
      "cell_type": "code",
      "source": [
        "# 5.Use Amazon database\n",
        "myDB = client[\"amazon\"]"
      ],
      "metadata": {
        "id": "OM5-DtZMRXGB"
      },
      "execution_count": 56,
      "outputs": []
    },
    {
      "cell_type": "code",
      "source": [
        "#6.Call customers collection\n",
        "customerCollection = myDB[\"customer\"]"
      ],
      "metadata": {
        "id": "M_mzrA3PRk5G"
      },
      "execution_count": 57,
      "outputs": []
    },
    {
      "cell_type": "code",
      "source": [
        "#7.Show all documents of customers collection\n",
        "for doc in customerCollection.find():\n",
        "  print(doc)"
      ],
      "metadata": {
        "colab": {
          "base_uri": "https://localhost:8080/"
        },
        "id": "8Is2OwVeSAeg",
        "outputId": "d73472bc-05c7-4716-a5c6-7e1f331217bf"
      },
      "execution_count": 58,
      "outputs": [
        {
          "output_type": "stream",
          "name": "stdout",
          "text": [
            "{'_id': 'C4', 'Customer': 'Yazmin Hughes', 'Gender': 'F', 'Age': 43, 'phone_number': 446180152448, 'addresses': [{'_id': 'AD4', 'house': 'Manchester Apartment 104', 'street': '60 Oxford St', 'city': 'Manchester', 'post_code': 'M1 5EE', 'location': {'type': 'Point', 'coordinates': [53.47435691, -2.242684794]}}], 'current_orders': [{'_id': '20230104062322C4', 'date': datetime.datetime(2023, 1, 4, 6, 23, 22), 'order_status': 2, 'order_details': [{'product_id': 'FP12', 'quantity': 5, 'cost': 5}], 'total_cost': 25, 'partner_id': '', 'shipping_id': 'AD4', 'supplier_id': 'ST5'}, {'_id': '20230104070917C4', 'date': datetime.datetime(2023, 1, 4, 7, 9, 17), 'order_status': 1, 'order_details': [{'product_id': 'HA1', 'quantity': 1, 'cost': 58.99}], 'total_cost': 58.99, 'partner_id': '', 'shipping_id': 'AD4', 'supplier_id': 'W1'}], 'recommended_products': [{'product_id': 'B10', 'avg_rating': 3.4}, {'product_id': 'HA3', 'avg_rating': 4}]}\n",
            "{'_id': 'C3', 'Customer': 'Raelynn Dodson', 'Gender': 'F', 'Age': 44, 'phone_number': 443482883256, 'addresses': [{'_id': 'AD3', 'house': 3, 'street': 'Dickinson St', 'city': 'Manchester', 'post_code': 'M1 4LF', 'location': {'type': 'Point', 'coordinates': [53.47850891, -2.242348226]}}], 'current_orders': [{'_id': '20230104035938C3', 'date': datetime.datetime(2023, 1, 4, 3, 59, 38), 'order_status': 2, 'order_details': [{'product_id': 'PH1', 'quantity': 1, 'cost': 169}], 'total_cost': 169, 'partner_id': '', 'shipping_id': 'AD3', 'supplier_id': 'W1'}, {'_id': '20230104045148C3', 'date': datetime.datetime(2023, 1, 4, 4, 51, 48), 'order_status': 1, 'order_details': [{'product_id': 'FP2', 'quantity': 1, 'cost': 2.7}, {'product_id': 'FP1', 'quantity': 5, 'cost': 2}], 'total_cost': 210, 'partner_id': '', 'shipping_id': 'AD3', 'supplier_id': 'ST4'}, {'_id': '20230104054212C3', 'date': datetime.datetime(2023, 1, 4, 5, 42, 12), 'order_status': 2, 'total_cost': 11.48, 'partner_id': '', 'shipping_id': 'AD3', 'supplier_id': 'W1', 'order_details': [{'product_id': 'CD2', 'quantity': 1, 'cost': 11.48}]}], 'recommended_products': [{'product_id': 'FP10', 'avg_rating': 3.8}, {'product_id': 'PH4', 'avg_rating': 3.6}]}\n",
            "{'_id': 'C1', 'Customer': 'Gunner Ferrell', 'Gender': 'M', 'Age': 51, 'phone_number': 443454155475, 'addresses': [{'_id': 'AD1', 'house': 27, 'street': 'Ellesmere St', 'city': 'Manchester', 'post_code': 'M15 4RU', 'location': {'type': 'Point', 'coordinates': [53.4702888668, -2.26459207339]}}], 'current_orders': [{'_id': '20230104002920C1', 'date': datetime.datetime(2023, 1, 4, 0, 29, 20), 'order_status': 3, 'total_cost': 10.7, 'partner_id': '', 'shipping_id': 'AD1', 'supplier_id': 'ST1', 'order_details': [{'product_id': 'FP1', 'quantity': 4, 'cost': 2}, {'product_id': 'FP2', 'quantity': 1, 'cost': 2.7}]}, {'_id': '20230104032330C1', 'date': datetime.datetime(2023, 1, 4, 3, 23, 30), 'order_status': 3, 'total_cost': 4, 'partner_id': '', 'shipping_id': 'AD1', 'supplier_id': 'ST2', 'order_details': [{'product_id': 'FP5', 'quantity': 2, 'cost': 2}]}, {'_id': '20230109181700C2', 'date': datetime.datetime(2023, 1, 9, 17, 31), 'order_status': 3, 'total_cost': 6, 'partner_id': 'PA2', 'shipping_id': 'AD2', 'supplier_id': 'ST3', 'order_details': [{'product_id': 'FP3', 'quantity': 3, 'cost': 6}]}, {'_id': '20233101/09/23173100C1', 'date': datetime.datetime(2023, 1, 9, 17, 31), 'order_status': 3, 'total_cost': 6, 'partner_id': 'PA2', 'shipping_id': 'AD1', 'supplier_id': 'ST5', 'order_details': [{'product_id': 'FP1'}]}], 'recommended_products': [{'product_id': 'FP10', 'avg_rating': 3.8}, {'product_id': 'CD2', 'ratings': 4}]}\n",
            "{'_id': 'C6', 'Customer': 'Jamarcus Montgomery', 'Gender': 'M', 'Age': 64, 'phone_number': 448832254583, 'addresses': [{'_id': 'AD6', 'house': 6, 'street': 'Minshull St', 'city': 'Manchester', 'post_code': 'M1 3ED', 'location': {'type': 'Point', 'coordinates': [53.47999262, -2.236578948]}}], 'current_orders': [{'_id': '20230104083607C6', 'date': datetime.datetime(2023, 1, 4, 8, 36, 7), 'order_status': 4, 'order_details': [{'product_id': 'FP3', 'quantity': 5, 'cost': 2}], 'total_cost': 10, 'partner_id': 'PA3', 'shipping_id': 'AD6', 'supplier_id': 'ST1'}, {'_id': '20230104084644C6', 'date': datetime.datetime(2023, 1, 4, 8, 46, 44), 'order_status': 3, 'order_details': [{'product_id': 'FP5', 'quantity': 2, 'cost': 2}], 'total_cost': 4, 'partner_id': 'PA3', 'shipping_id': 'AD6', 'supplier_id': 'ST2'}], 'recommended_products': [{'product_id': 'FP10', 'avg_rating': 3.8}, {'product_id': 'PH4', 'avg_rating': 3.6}]}\n",
            "{'_id': 'C14', 'Customer': 'Brice Copeland', 'Gender': 'M', 'Age': 33, 'phone_number': 446933952521, 'addresses': [{'_id': 'AD15', 'house': 'Thomas House 108', 'street': 'Thomas St', 'city': 'Manchester', 'post_code': 'M4 1EX', 'location': {'type': 'Point', 'coordinates': [53.48445305, -2.23749638]}}], 'current_orders': [{'_id': '20230104175610C14', 'date': datetime.datetime(2023, 1, 4, 17, 56, 10), 'order_status': 3, 'order_details': [{'product_id': 'B3', 'quantity': 1, 'cost': 8}], 'total_cost': 8, 'partner_id': '', 'shipping_id': 'AD15', 'supplier_id': 'W1'}, {'_id': '20230104181037C14', 'date': datetime.datetime(2023, 1, 4, 18, 10, 37), 'order_status': 4, 'order_details': [{'product_id': 'CD5', 'quantity': 1, 'cost': 7.46}], 'total_cost': 7.46, 'partner_id': 'PA2', 'shipping_id': 'AD15', 'supplier_id': 'W2'}], 'recommended_products': [{'product_id': 'B2', 'avg_rating': 4.2}, {'product_id': 'FP10', 'avg_rating': 3.8}]}\n",
            "{'_id': 'C20', 'Customer': 'Mark Mulldon', 'Gender': 'M', 'Age': 59, 'phone_number': 445219432797, 'addresses': [{'_id': 'AD22', 'house': 2, 'street': 'Knowles Place', 'city': 'Manchester', 'post_code': 'M15 6DA', 'location': {'type': 'Point', 'coordinates': [53.46931183, -2.242109147]}}], 'current_orders': [{'_id': '20230104230118C20', 'date': datetime.datetime(2023, 1, 4, 23, 1, 18), 'order_status': 2, 'order_details': [{'product_id': 'FP9', 'quantity': 3, 'cost': 2}, {'product_id': 'FP7', 'quantity': 4, 'cost': 2}], 'total_cost': 14, 'partner_id': '', 'shipping_id': 'AD22', 'supplier_id': 'ST1'}, {'_id': '20230104232544C20', 'date': datetime.datetime(2023, 1, 4, 23, 25, 44), 'order_status': 4, 'order_details': [{'product_id': 'PH9', 'quantity': 1, 'cost': 849}], 'total_cost': 849, 'partner_id': 'PA3', 'shipping_id': 'AD22', 'supplier_id': 'W3'}], 'recommended_products': [{'product_id': 'FP1', 'avg_rating': 3.6}, {'product_id': 'CD2', 'avg_rating': 4}]}\n",
            "{'_id': 'C5', 'Customer': 'Ray Mcdaniel', 'Gender': 'M', 'Age': 28, 'phone_number': 448788155481, 'addresses': [{'_id': 'AD5', 'house': 'Manhattan Apartment 302', 'street': '38 George St', 'city': 'Manchester', 'post_code': 'M1 4HA', 'location': {'type': 'Point', 'coordinates': [53.4810334, -2.239225003]}}], 'current_orders': [{'_id': '20230104073820C5', 'date': datetime.datetime(2023, 1, 4, 7, 38, 20), 'order_status': 3, 'order_details': [{'product_id': 'HA9', 'quantity': 1, 'cost': 61.75}], 'total_cost': 61.75, 'partner_id': '', 'shipping_id': 'AD5', 'supplier_id': 'W1'}, {'_id': '20230104073950C5', 'date': datetime.datetime(2023, 1, 4, 7, 39, 50), 'order_status': 4, 'order_details': [{'product_id': 'HA3', 'quantity': 2, 'cost': 20.74}], 'total_cost': 41.48, 'partner_id': 'PA1', 'shipping_id': 'AD5', 'supplier_id': 'W1'}], 'recommended_products': [{'product_id': 'HA2', 'avg_rating': 3.8}, {'product_id': 'PH4', 'avg_rating': 3.6}]}\n",
            "{'_id': 'C8', 'Customer': 'Kelsey Brandt', 'Gender': 'F', 'Age': 47, 'phone_number': 447531225175, 'addresses': [{'_id': 'AD8', 'house': 9, 'street': 'Whitworth St W', 'city': 'Manchester', 'post_code': 'M1 5JB', 'location': {'type': 'Point', 'coordinates': [53.4739587, -2.247152235]}}], 'current_orders': [{'_id': '20230104100253C8', 'date': datetime.datetime(2023, 1, 4, 10, 2, 53), 'order_status': 4, 'order_details': [{'product_id': 'CD8', 'quantity': 1, 'cost': 20.65}], 'total_cost': 20.65, 'partner_id': 'PA1', 'shipping_id': 'AD8', 'supplier_id': 'W1'}, {'_id': '20230104111320C8', 'date': datetime.datetime(2023, 1, 4, 11, 13, 20), 'order_status': 1, 'order_details': [{'product_id': 'B4', 'quantity': 2, 'cost': 14}], 'total_cost': 28, 'partner_id': '', 'shipping_id': 'AD8', 'supplier_id': 'W2'}], 'recommended_products': [{'product_id': 'HA10', 'avg_rating': 3.8}, {'product_id': 'B2', 'avg_rating': 4.2}]}\n",
            "{'_id': 'C18', 'Customer': 'Aubree Holland', 'Gender': 'M', 'Age': 70, 'phone_number': 448137575603, 'addresses': [{'_id': 'AD19', 'house': 144, 'street': 'Plymouth Grove', 'city': 'Manchester', 'post_code': 'M13 9LU', 'location': {'type': 'Point', 'coordinates': [53.46303432, -2.218282878]}}], 'current_orders': [{'_id': '20230104195830C18', 'date': datetime.datetime(2023, 1, 4, 19, 58, 30), 'order_status': 2, 'order_details': [{'product_id': 'PH1', 'quantity': 1, 'cost': 169}], 'total_cost': 169, 'partner_id': '', 'shipping_id': 'AD19', 'supplier_id': 'W1'}, {'_id': '20230104204208C18', 'date': datetime.datetime(2023, 1, 4, 20, 42, 8), 'order_status': 2, 'order_details': [{'product_id': 'CD9', 'quantity': 2, 'cost': 18.2}], 'total_cost': 36.4, 'partner_id': '', 'shipping_id': 'AD19', 'supplier_id': 'W1'}], 'recommended_products': [{'product_id': 'HA2', 'avg_rating': 3.8}, {'product_id': 'FP1', 'avg_rating': 3.6}]}\n",
            "{'_id': 'C10', 'Customer': 'Billy Ross', 'Gender': 'M', 'Age': 45, 'phone_number': 449575146991, 'addresses': [{'_id': 'AD10', 'house': 36, 'street': 'City Rd E', 'city': 'Manchester', 'post_code': 'M15 4TH', 'location': {'type': 'Point', 'coordinates': [53.47182187, -2.249197681]}}], 'current_orders': [{'_id': '20230104142337C10', 'date': datetime.datetime(2023, 1, 4, 14, 23, 37), 'order_status': 4, 'order_details': [{'product_id': 'FP5', 'quantity': 2, 'cost': 2}], 'total_cost': 4, 'partner_id': 'PA2', 'shipping_id': 'AD10', 'supplier_id': 'ST2'}, {'_id': '20230104142757C10', 'date': datetime.datetime(2023, 1, 4, 14, 27, 57), 'order_status': 2, 'order_details': [{'product_id': 'CD5', 'quantity': 1, 'cost': 7.46}], 'total_cost': 7.46, 'partner_id': '', 'shipping_id': 'AD10', 'supplier_id': 'W1'}], 'recommended_products': [{'product_id': 'CD1', 'avg_rating': 3.4}, {'product_id': 'HA10', 'avg_rating': 3.8}]}\n",
            "{'_id': 'C15', 'Customer': 'Calvin Carlson', 'Gender': 'M', 'Age': 66, 'phone_number': 448193919245, 'addresses': [{'_id': 'AD16', 'house': 'Botanica Apartment 406', 'street': '343 Chester Road', 'city': 'Manchester', 'post_code': 'M15 4YS', 'location': {'type': 'Point', 'coordinates': [53.46764284, -2.264848358]}}], 'current_orders': [{'_id': '20230104183531C15', 'date': datetime.datetime(2023, 1, 4, 18, 35, 31), 'order_status': 1, 'order_details': [{'product_id': 'CD6', 'quantity': 1, 'cost': 14.92}], 'total_cost': 14.92, 'partner_id': '', 'shipping_id': 'AD16', 'supplier_id': 'W1'}, {'_id': '20230104184145C15', 'date': datetime.datetime(2023, 1, 4, 18, 41, 45), 'order_status': 1, 'order_details': [{'product_id': 'HA5', 'quantity': 1, 'cost': 29}], 'total_cost': 29, 'partner_id': '', 'shipping_id': 'AD16', 'supplier_id': 'W1'}], 'recommended_products': [{'product_id': 'HA2', 'avg_rating': 3.8}, {'product_id': 'B2', 'avg_rating': 4.2}]}\n",
            "{'_id': 'C7', 'Customer': 'Charity Dunn', 'Gender': 'F', 'Age': 21, 'phone_number': 441688180719, 'addresses': [{'_id': 'AD7', 'house': 'Dream Apartment 112', 'street': 'Adelphi Wharf 1', 'city': 'Manchester', 'post_code': 'M3 6EN', 'location': {'type': 'Point', 'coordinates': [53.48613766, -2.26412568]}}], 'current_orders': [{'_id': '20230104085210C7', 'date': datetime.datetime(2023, 1, 4, 8, 52, 10), 'order_status': 4, 'order_details': [{'product_id': 'FP2', 'quantity': 3, 'cost': 2.7}], 'total_cost': 8.1, 'partner_id': 'PA5', 'shipping_id': 'AD7', 'supplier_id': 'ST1'}, {'_id': '20230104093722C7', 'date': datetime.datetime(2023, 1, 4, 9, 37, 22), 'order_status': 2, 'order_details': [{'product_id': 'B9', 'quantity': 1, 'cost': 9.99}], 'total_cost': 9.99, 'partner_id': '', 'shipping_id': 'AD7', 'supplier_id': 'W1'}], 'recommended_products': [{'product_id': 'B2', 'avg_rating': 4.2}, {'product_id': 'HA2', 'avg_rating': 3.8}]}\n",
            "{'_id': 'C2', 'Customer': 'Lillie Costa', 'Gender': 'F', 'Age': 30, 'phone_number': 447137031760, 'addresses': [{'_id': 'AD2', 'house': 'The Residence 202', 'street': '371 Deansgate', 'city': 'Manchester', 'post_code': 'M15 4UP', 'location': {'type': 'Point', 'coordinates': [53.47352882, -2.252042281]}}], 'current_orders': [{'_id': '20230104032443C2', 'date': datetime.datetime(2023, 1, 4, 3, 24, 43), 'order_status': 4, 'order_details': [{'product_id': 'FP4', 'quantity': 2, 'cost': 6.8}], 'total_cost': 13.6, 'partner_id': 'PA2', 'shipping_id': 'AD2', 'supplier_id': 'ST2'}, {'_id': '20230104032814C2', 'date': datetime.datetime(2023, 1, 4, 3, 28, 14), 'order_status': 3, 'order_details': [{'product_id': 'FP1', 'quantity': 1, 'cost': 2}], 'total_cost': 2, 'partner_id': 'PA2', 'shipping_id': 'AD2', 'supplier_id': 'ST3'}, {'_id': '20230109181700C2', 'date': datetime.datetime(2023, 1, 9, 18, 17), 'order_status': 3, 'total_cost': 4, 'partner_id': 'PA2', 'shipping_id': 'AD2', 'supplier_id': 'ST3', 'order_details': [{'product_id': 'FP3', 'quantity': 2, 'cost': 4}]}, {'_id': '20231701/09/23181700C2', 'date': datetime.datetime(2023, 1, 9, 18, 17), 'order_status': 3, 'total_cost': 4, 'partner_id': 'PA2', 'shipping_id': 'AD2', 'supplier_id': 'ST5', 'order_details': [{'product_id': 'FP3'}]}], 'recommended_products': [{'product_id': 'FP8', 'avg_rating': 3.8}, {'product_id': 'B2', 'avg_rating': 4.2}]}\n",
            "{'_id': 'C11', 'Customer': 'Jairo Fitzgerald', 'Gender': 'M', 'Age': 19, 'phone_number': 445486335516, 'addresses': [{'_id': 'AD11', 'house': 1, 'street': 'Trentham St', 'city': 'Manchester', 'post_code': 'M15 4YG', 'location': {'type': 'Point', 'coordinates': [53.47103182, -2.264642358]}}], 'current_orders': [{'_id': '20230104145116C11', 'date': datetime.datetime(2023, 1, 4, 14, 51, 16), 'order_status': 3, 'order_details': [{'product_id': 'FP1', 'quantity': 3, 'cost': 2}], 'total_cost': 6, 'partner_id': '', 'shipping_id': 'AD11', 'supplier_id': 'ST1'}, {'_id': '20230104153802C11', 'date': datetime.datetime(2023, 1, 4, 15, 38, 2), 'order_status': 4, 'order_details': [{'product_id': 'FP10', 'quantity': 5, 'cost': 4}], 'total_cost': 20, 'partner_id': 'PA5', 'shipping_id': 'AD11', 'supplier_id': 'ST2'}], 'recommended_products': [{'product_id': 'FP11', 'avg_rating': 3.2}, {'product_id': 'PH8', 'avg_rating': 3}]}\n",
            "{'_id': 'C13', 'Customer': 'Rowan Fox', 'Gender': 'M', 'Age': 58, 'phone_number': 447885651241, 'addresses': [{'_id': 'AD13', 'house': 'Circle Square Apartment 321', 'street': '7 Symphony Park', 'city': 'Manchester', 'post_code': 'M1 7GB', 'location': {'type': 'Point', 'coordinates': [53.47255984, -2.236631167]}}, {'_id': 'AD14', 'house': 42, 'street': 'City Rd E', 'city': 'Manchester', 'post_code': 'M15 4QF', 'location': {'type': 'Point', 'coordinates': [53.47198948, -2.248974858]}}], 'current_orders': [{'_id': '20230104164331C13', 'date': datetime.datetime(2023, 1, 4, 16, 43, 31), 'order_status': 4, 'order_details': [{'product_id': 'FP9', 'quantity': 6, 'cost': 2}], 'total_cost': 12, 'partner_id': 'PA3', 'shipping_id': 'AD13', 'supplier_id': 'ST2'}, {'_id': '20230104171338C13', 'date': datetime.datetime(2023, 1, 4, 17, 13, 38), 'order_status': 1, 'order_details': [{'product_id': 'FP13', 'quantity': 2, 'cost': 3}], 'total_cost': 6, 'partner_id': '', 'shipping_id': 'AD13', 'supplier_id': 'W1'}], 'recommended_products': [{'product_id': 'FP8', 'avg_rating': 3.8}, {'product_id': 'PH4', 'avg_rating': 3.6}]}\n",
            "{'_id': 'C19', 'Customer': 'Ram Prasad', 'Gender': 'M', 'Age': 50, 'phone_number': 445866104074, 'addresses': [{'_id': 'AD20', 'house': 5, 'street': 'Lucy St', 'city': 'Manchester', 'post_code': 'M15 4SG', 'location': {'type': 'Point', 'coordinates': [53.46546566, -2.261863026]}}, {'_id': 'AD21', 'house': 4, 'street': 'Eyre St', 'city': 'Manchester', 'post_code': 'M15 6HD', 'location': {'type': 'Point', 'coordinates': [53.46406425, -2.241031337]}}], 'current_orders': [{'_id': '20230104210846C19', 'date': datetime.datetime(2023, 1, 4, 21, 8, 46), 'order_status': 2, 'order_details': [{'product_id': 'PH7', 'quantity': 4, 'cost': 599}, {'product_id': 'CD10', 'quantity': 5, 'cost': 8.28}], 'total_cost': 2437.4, 'partner_id': '', 'shipping_id': 'AD20', 'supplier_id': 'W1'}, {'_id': '20230104212616C19', 'date': datetime.datetime(2023, 1, 4, 21, 26, 16), 'order_status': 3, 'order_details': [{'product_id': 'B6', 'quantity': 1, 'cost': 13.99}, {'product_id': 'PH6', 'quantity': 1, 'cost': 769}], 'total_cost': 782.99, 'partner_id': '', 'shipping_id': 'AD21', 'supplier_id': 'W1'}], 'recommended_products': [{'product_id': 'FP10', 'avg_rating': 3.8}, {'product_id': 'PH4', 'avg_rating': 3.6}]}\n",
            "{'_id': 'C9', 'Customer': 'Kylee Wang', 'Gender': 'F', 'Age': 30, 'phone_number': 442407773507, 'addresses': [{'_id': 'AD9', 'house': 6, 'street': 'St Anns Square', 'city': 'Manchester', 'post_code': 'M2 7HN', 'location': {'type': 'Point', 'coordinates': [53.48164032, -2.245008303]}}], 'current_orders': [{'_id': '20230104124723C9', 'date': datetime.datetime(2023, 1, 4, 12, 47, 23), 'order_status': 1, 'order_details': [{'product_id': 'CD1', 'quantity': 1, 'cost': 14.87}], 'total_cost': 14.87, 'partner_id': '', 'shipping_id': 'AD9', 'supplier_id': 'W2'}, {'_id': '20230104130020C9', 'date': datetime.datetime(2023, 1, 4, 13, 0, 20), 'order_status': 1, 'order_details': [{'product_id': 'FP4', 'quantity': 2, 'cost': 6.8}], 'total_cost': 13.6, 'partner_id': '', 'shipping_id': 'AD9', 'supplier_id': 'ST1'}], 'recommended_products': [{'product_id': 'CD10', 'avg_rating': 4}, {'product_id': 'FP10', 'avg_rating': 3.8}]}\n",
            "{'_id': 'C12', 'Customer': 'Lucian Cohen', 'Gender': 'F', 'Age': 64, 'phone_number': 444694363523, 'addresses': [{'_id': 'AD12', 'house': 'Downtown Apartment 405', 'street': '7-9 Woden St', 'city': 'Manchester', 'post_code': 'M5 4YH', 'location': {'type': 'Point', 'coordinates': [53.47379226, -2.266542294]}}], 'current_orders': [{'_id': '20230104154828C12', 'date': datetime.datetime(2023, 1, 4, 15, 48, 28), 'order_status': 1, 'order_details': [{'product_id': 'FP1', 'quantity': 3, 'cost': 2}], 'total_cost': 6, 'partner_id': '', 'shipping_id': 'AD12', 'supplier_id': 'ST1'}, {'_id': '20230104162435C12', 'date': datetime.datetime(2023, 1, 4, 16, 24, 35), 'order_status': 2, 'partner_id': '', 'order_details': [{'product_id': 'FP10', 'quantity': 5, 'cost': 4}], 'total_cost': 20, 'shipping_id': 'AD12', 'supplier_id': 'ST2'}], 'recommended_products': [{'product_id': 'FP10', 'avg_rating': 3.8}, {'product_id': 'HA2', 'avg_rating': 3.8}]}\n",
            "{'_id': 'C16', 'Customer': 'Alyvia Mccormick', 'Gender': 'F', 'Age': 22, 'phone_number': 442962074861, 'addresses': [{'_id': 'AD17', 'house': 83, 'street': 'Devonshire Street South', 'city': 'Manchester', 'post_code': 'M13 9DA', 'location': {'type': 'Point', 'coordinates': [53.46565883, -2.218350607]}}], 'current_orders': [{'_id': '20230104185709C16', 'date': datetime.datetime(2023, 1, 4, 18, 57, 9), 'order_status': 2, 'order_details': [{'product_id': 'HA6', 'quantity': 1, 'cost': 124.25}], 'total_cost': 124.25, 'partner_id': '', 'shipping_id': 'AD17', 'supplier_id': 'W1'}, {'_id': '20230104185943C16', 'date': datetime.datetime(2023, 1, 4, 18, 59, 43), 'order_status': 4, 'order_details': [{'product_id': 'CD10', 'quantity': 4, 'cost': 8.28}], 'total_cost': 33.12, 'partner_id': 'PA4', 'shipping_id': 'AD17', 'supplier_id': 'W1'}], 'recommended_products': [{'product_id': 'HA2', 'avg_rating': 3.8}, {'product_id': 'B2', 'avg_rating': 4.2}]}\n",
            "{'_id': 'C17', 'Customer': 'Patience Valentine', 'Gender': 'F', 'Age': 38, 'phone_number': 448240719966, 'addresses': [{'_id': 'AD18', 'house': 290, 'street': 'Dickenson Road', 'city': 'Manchester', 'post_code': 'M14 5HA', 'location': {'type': 'Point', 'coordinates': [53.45466109, -2.207181547]}}], 'current_orders': [{'_id': '20230104192023C17', 'date': datetime.datetime(2023, 1, 4, 19, 20, 23), 'order_status': 3, 'order_details': [{'product_id': 'HA9', 'quantity': 1, 'cost': 61.75}], 'total_cost': 61.75, 'partner_id': '', 'shipping_id': 'AD18', 'supplier_id': 'W1'}, {'_id': '20230104194512C17', 'date': datetime.datetime(2023, 1, 4, 19, 45, 12), 'order_status': 2, 'order_details': [{'product_id': 'B7', 'quantity': 8, 'cost': 16.99}], 'total_cost': 135.92, 'partner_id': '', 'shipping_id': 'AD18', 'supplier_id': 'W3'}], 'recommended_products': [{'product_id': 'B2', 'avg_rating': 4.2}, {'product_id': 'FP10', 'avg_rating': 3.8}]}\n"
          ]
        }
      ]
    },
    {
      "cell_type": "code",
      "source": [
        "# Use Amazon database\n",
        "myDB = client[\"amazon\"]\n",
        "\n",
        "# Get the collection names in the Amazon database\n",
        "collection_names = myDB.list_collection_names()\n",
        "\n",
        "# Display each collection name\n",
        "for collection_name in collection_names:\n",
        "    print(collection_name)\n"
      ],
      "metadata": {
        "colab": {
          "base_uri": "https://localhost:8080/"
        },
        "id": "m6jsUL5tXTOV",
        "outputId": "493be4f7-f33a-470e-d10f-91c5619d4479"
      },
      "execution_count": 59,
      "outputs": [
        {
          "output_type": "stream",
          "name": "stdout",
          "text": [
            "rating\n",
            "suplier\n",
            "customer\n",
            "suppliers\n",
            "supplier\n",
            "partnerHistort\n",
            "product\n",
            "partner\n",
            "dailyInventoryRecord\n"
          ]
        }
      ]
    },
    {
      "cell_type": "code",
      "source": [
        "#8.Call product collection\n",
        "productCollection = myDB[\"product\"]"
      ],
      "metadata": {
        "id": "8zCEey7_SYhD"
      },
      "execution_count": 60,
      "outputs": []
    },
    {
      "cell_type": "code",
      "source": [
        "#7.Show all documents of products collection\n",
        "for doc in productCollection.find():\n",
        "  print(doc)\n"
      ],
      "metadata": {
        "colab": {
          "base_uri": "https://localhost:8080/"
        },
        "id": "5PwGVw-aVqWU",
        "outputId": "dcd40cd9-f5e1-4e5f-f029-1f0cd4966d52"
      },
      "execution_count": 61,
      "outputs": [
        {
          "output_type": "stream",
          "name": "stdout",
          "text": [
            "{'_id': 'CD10', 'name': 'Hotel California', 'short_desc': 'Released on December 8, 1976, by Asylum Records, Hotel California was recorded by Bill Szymczyk at the Criteria and Record Plant studios between March and October 1976. ', 'dimensions': {'length': 12, 'width': 12, 'height': 2}, 'quantity_per_unit': 0.4, 'avg_ratings': 4, 'std_price': 8.28, 'supp_price': 6, 'cd': {'artist_name': 'Eagles', 'no_of_tracks': 9, 'total_play_time_in_mins': 43, 'publisher': 'Warner Bros Records'}, 'category': 'CD'}\n",
            "{'_id': 'CD9', 'name': 'Ladies & Gentlemen', 'short_desc': 'The collection of 29 songs is separated into two-halves, with each CD of the double set containing music of a particular theme and mood. ', 'dimensions': {'length': 12, 'width': 12, 'height': 3}, 'quantity_per_unit': 0.4, 'avg_ratings': 3, 'std_price': 18.2, 'supp_price': 9.9, 'cd': {'artist_name': 'George Michael', 'no_of_tracks': 29, 'total_play_time_in_mins': 136, 'publisher': 'Warner Chappell Music Ltd.'}, 'category': 'CD'}\n",
            "{'_id': 'PH4', 'name': 'Huawei P9', 'short_desc': 'A 5.2-inch Full HD IPS-NEO LCD display and runs on Android 6.0 Marshmallow OS', 'dimensions': {'length': 14.5, 'width': 7.09, 'height': 0.7}, 'quantity_per_unit': 0.14, 'avg_ratings': 3.6, 'std_price': 100, 'supp_price': 55, 'mobile_phone': {'brand': 'Huawei', 'model': 'P9', 'colour': 'Ceramic White', 'features': 'IPS-NEO LCD display, Quad-core 2.5 GHz, Fingerprint Sensor'}, 'category': 'PH'}\n",
            "{'_id': 'B7', 'name': 'The Alchemist', 'short_desc': 'The Alchemist is a classic novel in which a boy named Santiago embarks on a journey seeking treasure in the Egyptian pyramids after having a recurring dream about it and on the way meets mentors, falls in love, and most importantly, learns the true importance of who he is and how to improve himself', 'dimensions': {'length': 2.5, 'width': 3, 'height': 8}, 'quantity_per_unit': 0.6, 'avg_ratings': 2.6, 'std_price': 16.99, 'supp_price': 12.99, 'book': {'author_name': 'Miles Gibson', 'publisher': 'HarperCollins Publishers', 'year_of_publication': 1988, 'ISBN': '978-5-9546-3550-8'}, 'category': 'B'}\n",
            "{'_id': 'FP3', 'name': 'Pie', 'short_desc': 'normal bread', 'dimensions': {'length': 0.3, 'width': 0.4, 'height': 0.6}, 'quantity_per_unit': 0.5, 'avg_ratings': 2.4, 'std_price': 2, 'supp_price': 1.2, 'fresh': {'category': 'Bakery', 'best_before': 5, 'country_of_origin': 'UK'}, 'category': 'fresh'}\n",
            "{'_id': 'FP4', 'name': 'Cheese Roll', 'short_desc': 'normal bread', 'dimensions': {'length': 0.3, 'width': 0.4, 'height': 0.7}, 'quantity_per_unit': 0.5, 'avg_ratings': 3.4, 'std_price': 6.8, 'supp_price': 1.3, 'fresh': {'category': 'Bakery', 'best_before': 5, 'country_of_origin': 'UK'}, 'category': 'fresh'}\n",
            "{'_id': 'B3', 'name': 'Dangerous Elysium', 'short_desc': 'Dangerous Elysium is a story of a man who is thrown into a world of surreal and hazardous circumstances. As the game progresses, your choices will determine not just who you are, but who you can be.', 'dimensions': {'length': 2.5, 'width': 3, 'height': 4}, 'quantity_per_unit': 0.5, 'avg_ratings': 1.6, 'std_price': 8, 'supp_price': 2, 'book': {'author_name': 'Victoria Orr', 'publisher': 'Hauthor', 'year_of_publication': 2013, 'ISBN': '978-7-6839-0684-3'}, 'category': 'B'}\n",
            "{'_id': 'HA10', 'name': 'LED Starry Sky Projector', 'short_desc': \"The starlight would help to develop children's imagination and creativity, inspiring them to discover the endless charm of the universe.\", 'dimensions': {'length': 12.1, 'width': 15, 'height': 15.5}, 'quantity_per_unit': 0.47, 'avg_ratings': 3.8, 'std_price': 37.04, 'supp_price': 23.04, 'home_appliance': {'colour': 'white', 'voltage': 5, 'style': 'Modern'}, 'category': 'HA'}\n",
            "{'_id': 'FP5', 'name': 'Super Delicious Bread', 'short_desc': 'amazing bread', 'dimensions': {'length': 0.3, 'width': 0.4, 'height': 0.8}, 'quantity_per_unit': 0.5, 'avg_ratings': 2.8, 'std_price': 2, 'supp_price': 1.4, 'fresh': {'category': 'Bakery', 'best_before': 5, 'country_of_origin': 'UK'}, 'category': 'fresh'}\n",
            "{'_id': 'FP13', 'name': 'Mango', 'short_desc': 'good mango', 'dimensions': {'length': 0.3, 'width': 0.3, 'height': 0.5}, 'quantity_per_unit': 0.5, 'avg_ratings': 3, 'std_price': 3, 'supp_price': 2.2, 'fresh': {'category': 'Fruits and Vegetables', 'best_before': 3, 'country_of_origin': 'UK'}, 'category': 'fresh'}\n",
            "{'_id': 'FP14', 'name': 'Lettuce', 'short_desc': 'big lettuce', 'dimensions': {'length': 0.3, 'width': 0.3, 'height': 0.6}, 'quantity_per_unit': 0.5, 'avg_ratings': 2.8, 'std_price': 2.9, 'supp_price': 2.3, 'fresh': {'category': 'Fruits and Vegetables', 'best_before': 3, 'country_of_origin': 'UK'}, 'category': 'fresh'}\n",
            "{'_id': 'B6', 'name': 'Rich Dad Poor Dad', 'short_desc': \"Rich Dad Poor Dad is Robert's story of growing up with two dads â€” his real father and the father of his best friend, his rich dad â€” and the ways in which both men shaped his thoughts about money and investing. The book explodes the myth that you need to earn a high income to be rich and explains the difference between working for money and having your money work for you.\", 'dimensions': {'length': 2.5, 'width': 3, 'height': 7}, 'quantity_per_unit': 0.3, 'avg_ratings': 3, 'std_price': 13.99, 'supp_price': 7.99, 'book': {'author_name': 'Robert Kiyosaki', 'publisher': 'Warner Books', 'year_of_publication': '1997', 'ISBN': '978-6-5034-0281-7'}, 'category': 'B'}\n",
            "{'_id': 'HA9', 'name': 'Bosch Smart Home Radiator Thermostat II', 'short_desc': 'With the radiator thermostat you can heat your home efficiently by controlling the temperature in each room at specific times', 'dimensions': {'length': 10.3, 'width': 4.8, 'height': 5.7}, 'quantity_per_unit': 0.38, 'avg_ratings': 2.8, 'std_price': 61.75, 'supp_price': 47.75, 'home_appliance': {'colour': 'white', 'voltage': 230, 'style': 'Radiator Thermostat II'}, 'category': 'HA'}\n",
            "{'_id': 'CD4', 'name': 'The Wall', 'short_desc': 'It is a rock opera that explores Pink, a jaded rock star whose eventual self-imposed isolation from society forms a figurative wall. ', 'dimensions': {'length': 14, 'width': 12, 'height': 1}, 'quantity_per_unit': 0.6, 'avg_ratings': 3, 'std_price': 16.58, 'supp_price': 9, 'cd': {'artist_name': 'Pink Floyd', 'no_of_tracks': 26, 'total_play_time_in_mins': 80, 'publisher': 'Alan Marshall'}, 'category': 'CD'}\n",
            "{'_id': 'FP7', 'name': 'Coke', 'short_desc': 'normal drink', 'dimensions': {'length': 0.2, 'width': 0.2, 'height': 0.6}, 'quantity_per_unit': 1, 'avg_ratings': 2.4, 'std_price': 2, 'supp_price': 1.6, 'fresh': {'category': 'Drinks', 'best_before': 100, 'country_of_origin': 'UK'}, 'category': 'fresh'}\n",
            "{'_id': 'FP9', 'name': 'Wine', 'short_desc': 'normal drink', 'dimensions': {'length': 0.2, 'width': 0.2, 'height': 0.8}, 'quantity_per_unit': 1.2, 'avg_ratings': 2.4, 'std_price': 2, 'supp_price': 1.8, 'fresh': {'category': 'Drinks', 'best_before': 100, 'country_of_origin': 'France'}, 'category': 'fresh'}\n",
            "{'_id': 'PH3', 'name': 'Google Pixel XL', 'short_desc': 'A brand of portable consumer electronic devices developed by Google that run either ChromeOS or the Android operating system', 'dimensions': {'length': 15.47, 'width': 7.57, 'height': 0.85}, 'quantity_per_unit': 0.17, 'avg_ratings': 3, 'std_price': 179.99, 'supp_price': 79.99, 'mobile_phone': {'brand': 'Google', 'model': 'Pixel XL', 'colour': 'Obsidian', 'features': 'Gorilla Glass 4, Fingerprint Sensor, AMOLED display'}, 'category': 'PH'}\n",
            "{'_id': 'CD3', 'name': '21', 'short_desc': \"Composed in the aftermath of the singer's separation from her then partner, the album explores themes of heartbreak, healing, introspection, and forgiveness.\", 'dimensions': {'length': 13, 'width': 12, 'height': 1}, 'quantity_per_unit': 0.4, 'avg_ratings': 2.6, 'std_price': 9.12, 'supp_price': 3, 'cd': {'artist_name': 'Adele', 'no_of_tracks': 11, 'total_play_time_in_mins': 48, 'publisher': 'XL Recordings'}, 'category': 'CD'}\n",
            "{'_id': 'B5', 'name': 'The Silver Cradle', 'short_desc': 'The Silver Cradle is the story of a year in the life of the Mexican American people of San Antonio, Texas', 'dimensions': {'length': 2.5, 'width': 3, 'height': 6}, 'quantity_per_unit': 0.6, 'avg_ratings': 2.2, 'std_price': 13.5, 'supp_price': 5.5, 'book': {'author_name': 'Addyson Gutierrez', 'publisher': 'Such Media Inc', 'year_of_publication': 2017, 'ISBN': '978-5-4046-0497-9'}, 'category': 'B'}\n",
            "{'_id': 'CD2', 'name': 'Led Zepellin IV', 'short_desc': 'The informal setting at Headley Grange inspired the band, allowing them to try different arrangements of material and create songs in various styles', 'dimensions': {'length': 12, 'width': 12, 'height': 1}, 'quantity_per_unit': 0.9, 'avg_ratings': 4, 'std_price': 11.48, 'supp_price': 5, 'cd': {'artist_name': 'Led Zepellin', 'no_of_tracks': 8, 'total_play_time_in_mins': 42, 'publisher': 'Rodale Books'}, 'category': 'CD'}\n",
            "{'_id': 'FP8', 'name': 'Beer', 'short_desc': 'normal drink', 'dimensions': {'length': 0.2, 'width': 0.2, 'height': 0.7}, 'quantity_per_unit': 1, 'avg_ratings': 3.8, 'std_price': 10, 'supp_price': 1.7, 'fresh': {'category': 'Drinks', 'best_before': 100, 'country_of_origin': 'UK'}, 'category': 'fresh'}\n",
            "{'_id': 'B8', 'name': 'The Psychology of Money', 'short_desc': 'In this book, Morgan Housel addresses the often-neglected fact that we are irrational, emotional beings, not ROI-optimizing machines. Your financial success depends more on your soft skills (how you manage your psychology and emotional impulses) than your technical skills on financial analyses, market rules/laws', 'dimensions': {'length': 2.5, 'width': 3, 'height': 9}, 'quantity_per_unit': 0.4, 'avg_ratings': 3, 'std_price': 10.99, 'supp_price': 6.99, 'book': {'author_name': 'Leonard Reyes', 'publisher': 'Cve Inc', 'year_of_publication': 2020, 'ISBN': '978-1-0628-6609-4'}, 'category': 'B'}\n",
            "{'_id': 'HA8', 'name': 'NETGEAR Wi-Fi Range Extender EX3700', 'short_desc': 'Adds Wi-Fi range coverage up to 1000 sq ft, and connects up to 15 devices such as laptops, smartphones, speakers, IP cameras, tablets, IoT devices, and more.', 'dimensions': {'length': 5.52, 'width': 6.72, 'height': 3.9}, 'quantity_per_unit': 0.13, 'avg_ratings': 3.2, 'std_price': 21.97, 'supp_price': 5.97, 'home_appliance': {'colour': 'white', 'voltage': 240, 'style': 'WiFi Extender AC750'}, 'category': 'HA'}\n",
            "{'_id': 'FP11', 'name': 'Apple', 'short_desc': 'fresh apple', 'dimensions': {'length': 0.3, 'width': 0.3, 'height': 0.3}, 'quantity_per_unit': 0.5, 'avg_ratings': 3.2, 'std_price': 4, 'supp_price': 2, 'fresh': {'category': 'Fruits and Vegetables', 'best_before': 3, 'country_of_origin': 'UK'}, 'category': 'fresh'}\n",
            "{'_id': 'CD6', 'name': 'Abbey Road', 'short_desc': 'Abbey Road incorporates styles such as rock, pop, blues, singer-songwriter, and progressive rock, and makes prominent use of the Moog synthesizer and guitar played through a Leslie speaker unit.', 'dimensions': {'length': 14, 'width': 14, 'height': 3}, 'quantity_per_unit': 0.9, 'avg_ratings': 3.2, 'std_price': 14.92, 'supp_price': 8, 'cd': {'artist_name': 'The Beatles', 'no_of_tracks': 17, 'total_play_time_in_mins': 47, 'publisher': 'George Martin'}, 'category': 'CD'}\n",
            "{'_id': 'CD8', 'name': 'Hybrid Theory', 'short_desc': \"The album's lyrical themes deal with problems lead vocalist Chester Bennington experienced during his adolescence, including drug abuse and the constant fighting and divorce of his parents.\", 'dimensions': {'length': 12, 'width': 12, 'height': 1}, 'quantity_per_unit': 0.8, 'avg_ratings': 2.4, 'std_price': 20.65, 'supp_price': 10.85, 'cd': {'artist_name': 'Linkin Park', 'no_of_tracks': 12, 'total_play_time_in_mins': 37, 'publisher': 'Warner Bros Records'}, 'category': 'CD'}\n",
            "{'_id': 'CD7', 'name': 'The Eminem Show', 'short_desc': \"The album incorporates a heavier use of rap rock than Eminem's previous albums, and its themes are predominantly based on Eminem's prominence in hip hop culture, as well as his ambivalent thoughts of fame.\", 'dimensions': {'length': 14, 'width': 12, 'height': 1}, 'quantity_per_unit': 0.8, 'avg_ratings': 2.8, 'std_price': 6.61, 'supp_price': 5, 'cd': {'artist_name': 'Eminem', 'no_of_tracks': 20, 'total_play_time_in_mins': 77, 'publisher': 'Ensign Music Corp'}, 'category': 'CD'}\n",
            "{'_id': 'CD5', 'name': 'Back in Black', 'short_desc': 'The seventh studio album by Australian rock band AC/DC. It was released on 25 July 1980 by Albert Productions and Atlantic Records.', 'dimensions': {'length': 14, 'width': 12, 'height': 1}, 'quantity_per_unit': 0.5, 'avg_ratings': 3.4, 'std_price': 7.46, 'supp_price': 9, 'cd': {'artist_name': 'AC/DC', 'no_of_tracks': 10, 'total_play_time_in_mins': 42, 'publisher': 'Robert John Mutt Lange'}, 'category': 'CD'}\n",
            "{'_id': 'PH1', 'name': 'iPhone 6s', 'short_desc': 'Powered by the Apple A9 system-on-chip, which the company stated is up to 70% faster than Apple A8, and has up to 90% better graphics performance', 'dimensions': {'length': 15.82, 'width': 7.71, 'height': 0.7}, 'quantity_per_unit': 0.14, 'avg_ratings': 2, 'std_price': 169, 'supp_price': 96, 'mobile_phone': {'brand': 'Apple', 'model': 'iPhone 6s', 'colour': 'Space Grey', 'features': 'Retina HD display, Widescreen LCD, Multi-Touch display with IPS technology'}, 'category': 'PH'}\n",
            "{'_id': 'PH6', 'name': 'Galaxy S22', 'short_desc': 'There are numerous critical upgrades the phones possess over the previous models, in addition to improved specifications, an enhanced camera system supporting 8K video recording (7680Ã—4320) at 24 frames per second', 'dimensions': {'length': 14.6, 'width': 7.06, 'height': 0.76}, 'quantity_per_unit': 0.17, 'avg_ratings': 3, 'std_price': 769, 'supp_price': 694, 'mobile_phone': {'brand': 'Samsung', 'model': 'Galaxy S22', 'colour': 'Phantom Black', 'features': 'Dual Nano SIM, Dynamic AMOLED 2X, Fingerprint Sensor'}, 'category': 'PH'}\n",
            "{'_id': 'HA7', 'name': 'Breville Smart Oven Air Fryer Pro', 'short_desc': 'With 360Â° hot air circulation and high power of 1700 watts, the air fryer oven can easily make the delicious food as you wish', 'dimensions': {'length': 40, 'width': 42, 'height': 38.2}, 'quantity_per_unit': 13.95, 'avg_ratings': 2.2, 'std_price': 329.39, 'supp_price': 206, 'home_appliance': {'colour': 'silver', 'voltage': 110, 'style': 'New'}, 'category': 'HA'}\n",
            "{'_id': 'CD1', 'name': 'Thriller', 'short_desc': \"Thriller foreshadows the contradictory themes of Jackson's personal life, as he began using a motif of paranoia and darker themes.\", 'dimensions': {'length': 14, 'width': 12, 'height': 1}, 'quantity_per_unit': 0.6, 'avg_ratings': 3.4, 'std_price': 14.87, 'supp_price': 9, 'cd': {'artist_name': 'Michael Jackson', 'no_of_tracks': 9, 'total_play_time_in_mins': 42, 'publisher': 'Epic Records'}, 'category': 'CD'}\n",
            "{'_id': 'PH2', 'name': 'Galaxy S10', 'short_desc': 'The tenth generation of the Samsung Galaxy S, its flagship line of phones next to the Note models, which is also the 10th anniversary of the Galaxy S', 'dimensions': {'length': 14.99, 'width': 7.04, 'height': 0.78}, 'quantity_per_unit': 0.15, 'avg_ratings': 2.4, 'std_price': 200, 'supp_price': 113, 'mobile_phone': {'brand': 'Samsung', 'model': 'S10', 'colour': 'Black', 'features': 'Dual-sim, Fingerprint Sensor, Gyro Sensor'}, 'category': 'PH'}\n",
            "{'_id': 'PH7', 'name': 'Google Pixel 7 ', 'short_desc': 'Powered by the second-generation Google Tensor chip, shipped with Android 13.', 'dimensions': {'length': 15.5, 'width': 7.4, 'height': 0.76}, 'quantity_per_unit': 0.2, 'avg_ratings': 3, 'std_price': 599, 'supp_price': 517, 'mobile_phone': {'brand': 'Google', 'model': 'Pixel 7', 'colour': 'Snow', 'features': 'Corning Gorilla Glass, Always-on display, Dual-LED flash'}, 'category': 'PH'}\n",
            "{'_id': 'B1', 'name': 'Distant Nebula', 'short_desc': 'The image of a distant nebula, in the constellation Orion, photographed by the Hubble Space Telescope. The nebula is about 1,500 light-years across, and is about 1,500 light-years from Earth. For comparison, the distance to the Andromeda Galaxy is 2.5 kilop', 'dimensions': {'length': 2.5, 'width': 3, 'height': 2}, 'quantity_per_unit': 0.8, 'avg_ratings': 2.6, 'std_price': 12.99, 'supp_price': 10.99, 'book': {'author_name': 'Amari Stevenson', 'publisher': 'Sprite Pages', 'year_of_publication': 2009, 'ISBN': '978-3-2041-4086-4'}, 'category': 'B'}\n",
            "{'_id': 'HA3', 'name': 'EasyAcc Coffee Mug Warmer', 'short_desc': \"Coffee Cup Warmer 8h Auto Shut Off: Electric Cup Warmer's auto-shut off function prevents any possible safety hazard caused by forgetting to shut down.\", 'dimensions': {'length': 12, 'width': 12, 'height': 1.3}, 'quantity_per_unit': 0.22, 'avg_ratings': 4, 'std_price': 20.74, 'supp_price': 0.74, 'home_appliance': {'colour': 'black', 'voltage': 110, 'style': 'Middle-Black'}, 'category': 'HA'}\n",
            "{'_id': 'HA4', 'name': 'DASH Rapid Egg Cooker', 'short_desc': 'Allows you to cook eggs in less time than it takes to boil water on a stove', 'dimensions': {'length': 20.32, 'width': 15.24, 'height': 15.24}, 'quantity_per_unit': 0.45, 'avg_ratings': 2.8, 'std_price': 16.59, 'supp_price': 10, 'home_appliance': {'colour': 'red', 'voltage': 100, 'style': 'Cooker'}, 'category': 'HA'}\n",
            "{'_id': 'HA5', 'name': 'Mueller Electric Hand Mixer', 'short_desc': 'It is the perfect solution for the busy baker with a 5-speed dial and extra turbo function letting you choose the optimum mixing speed for any recipe.', 'dimensions': {'length': 20.29, 'width': 9.39, 'height': 20.49}, 'quantity_per_unit': '1.39', 'avg_ratings': 3.2, 'std_price': 29.01, 'supp_price': 12.01, 'home_appliance': {'colour': 'white', 'voltage': 120, 'style': 'Hands Mixer'}, 'category': 'HA'}\n",
            "{'_id': 'FP1', 'name': 'Tart', 'short_desc': 'normal bread', 'dimensions': {'length': 0.3, 'width': 0.4, 'height': 0.4}, 'quantity_per_unit': 0.5, 'avg_ratings': 3.6, 'std_price': 2, 'supp_price': 1, 'fresh': {'category': 'Bakery', 'best_before': 5, 'country_of_origin': 'UK'}, 'category': 'fresh'}\n",
            "{'_id': 'FP12', 'name': 'Orange', 'short_desc': 'sweet orange', 'dimensions': {'length': 0.3, 'width': 0.3, 'height': 0.4}, 'quantity_per_unit': 0.5, 'avg_ratings': 2.4, 'std_price': 5, 'supp_price': 2.1, 'fresh': {'category': 'Fruits and Vegetables', 'best_before': 3, 'country_of_origin': 'UK'}, 'category': 'fresh'}\n",
            "{'_id': 'PH9', 'name': 'iPhone 14', 'short_desc': 'Equipped with new Emergency SOS via satellite service', 'dimensions': {'length': 14.67, 'width': 7.15, 'height': 0.78}, 'quantity_per_unit': 0.17, 'avg_ratings': 3, 'std_price': 849, 'supp_price': 600, 'mobile_phone': {'brand': 'Apple', 'model': 'iPhone 14', 'colour': 'Midnight', 'features': 'A15 Bionic chip, Face ID, Water and Dust Resistant'}, 'category': 'PH'}\n",
            "{'_id': 'B2', 'name': 'Cold Grave', 'short_desc': 'Cold Grave is a moody and atmospheric horror tale set in an old graveyard. Set in the days following a zombie apocalypse, you play as a group of survivors who are trying to keep their sanity and stay alive.', 'dimensions': {'length': 2.5, 'width': 3, 'height': 3}, 'quantity_per_unit': 1, 'avg_ratings': 4.2, 'std_price': 9.99, 'supp_price': 4.99, 'book': {'author_name': 'Paris Blake', 'publisher': 'Lit Publications', 'year_of_publication': 2006, 'ISBN': '978-1-3890-1813-8'}, 'category': 'B'}\n",
            "{'_id': 'B9', 'name': 'Thinking, Fast and Slow', 'short_desc': 'Our brain is composed of systems, just like a computer. Fast, intuitive, and emotive describe System 1. In his book, Daniel Kahneman exhorts us to stop depending on this system. The most frequent cause of errors and stagnation is System 1. System 2 is a slower, more careful, and rational mental process in comparison. Kahneman advises making more frequent use of this system. Kahneman offers suggestions on how and why we make decisions in addition to this.', 'dimensions': {'length': 2.5, 'width': 3, 'height': 10}, 'quantity_per_unit': 0.5, 'avg_ratings': 3.8, 'std_price': 9.99, 'supp_price': 7.99, 'book': {'author_name': 'Alisson Campos', 'publisher': 'Warner Books', 'year_of_publication': 2011, 'ISBN': '978-8-2853-3424-9'}, 'category': 'B'}\n",
            "{'_id': 'HA1', 'name': 'Ultrean Air Fryer', 'short_desc': 'A multifunction cooker that saves your time and money - aside from air frying you can also grill, roast and bake your favorite food with its innovative heating system rapid air technology.', 'dimensions': {'length': 28.6, 'width': 33.55, 'height': 31.55}, 'quantity_per_unit': 4.52, 'avg_ratings': 2.4, 'std_price': 58.99, 'supp_price': 39.99, 'home_appliance': {'colour': 'blue', 'voltage': 120, 'style': 'air fryer'}, 'category': 'HA'}\n",
            "{'_id': 'HA6', 'name': 'McCulloch MC1275 Heavy-Duty Steam Cleaner', 'short_desc': 'Perfect solution to reduce all dust in your house', 'dimensions': {'length': 43.69, 'width': 26.67, 'height': 34.29}, 'quantity_per_unit': 5.44, 'avg_ratings': 3, 'std_price': 124.45, 'supp_price': 105.45, 'home_appliance': {'colour': 'black', 'voltage': 120, 'style': 'Mop'}, 'category': 'HA'}\n",
            "{'_id': 'FP10', 'name': 'Whiskey', 'short_desc': 'normal drink', 'dimensions': {'length': 0.2, 'width': 0.2, 'height': 0.9}, 'quantity_per_unit': 1.2, 'avg_ratings': 3.8, 'std_price': 2, 'supp_price': 1.9, 'fresh': {'category': 'Drinks', 'best_before': 100, 'country_of_origin': 'UK'}, 'category': 'fresh'}\n",
            "{'_id': 'PH8', 'name': 'OnePlus 9 Pro', 'short_desc': 'Your best shot. The phones feature upgraded cameras developed in partnership with Hasselblad.', 'dimensions': {'length': 16, 'width': 7.42, 'height': 0.87}, 'quantity_per_unit': 0.19, 'avg_ratings': 3, 'std_price': 500, 'supp_price': 421, 'mobile_phone': {'brand': 'OnePlus', 'model': '9 Pro', 'colour': 'Pine Green', 'features': '120 Hz Fluid Display, Hasselblad Camera, Warp Charge 65T'}, 'category': 'PH'}\n",
            "{'_id': 'B10', 'name': 'Sapiens', 'short_desc': \"Why are we so smart? Why are we so dangerous? Why are we Sapiens? The world's foremost historian and thinker, Yuval Noah Harari, questions what we believe to be true about humanity. Earth has existed for 4.5 billion years. It has been conquered by one species among many others in a little portion of that time: humans. Yuval Noah Harari examines our identities, origins, and future in this audacious and thought-provoking book.\", 'dimensions': {'length': 2.5, 'width': 3, 'height': 11}, 'quantity_per_unit': 0.7, 'avg_ratings': 3.4, 'std_price': 15.75, 'supp_price': 7.75, 'book': {'author_name': 'Miracle Hogan', 'publisher': 'Dvir Publishing House Ltd.', 'year_of_publication': 2011, 'ISBN': '978-9-5106-7102-3'}, 'category': 'B'}\n",
            "{'_id': 'FP6', 'name': 'Water', 'short_desc': 'normal drink', 'dimensions': {'length': 0.2, 'width': 0.2, 'height': 0.5}, 'quantity_per_unit': 1, 'avg_ratings': 2.4, 'std_price': 3.2, 'supp_price': 1.5, 'fresh': {'category': 'Drinks', 'best_before': 100, 'country_of_origin': 'UK'}, 'category': 'fresh'}\n",
            "{'_id': 'FP15', 'name': 'Cucumber', 'short_desc': 'long cucumber', 'dimensions': {'length': 0.3, 'width': 0.3, 'height': 0.7}, 'quantity_per_unit': 0.5, 'avg_ratings': 2.4, 'std_price': 2.8, 'supp_price': 2.4, 'fresh': {'category': 'Fruits and Vegetables', 'best_before': 3, 'country_of_origin': 'UK'}, 'category': 'fresh'}\n",
            "{'_id': 'FP2', 'name': 'Croissaint', 'short_desc': 'normal bread', 'dimensions': {'length': 0.3, 'width': 0.4, 'height': 0.5}, 'quantity_per_unit': 0.5, 'avg_ratings': 2, 'std_price': 2.7, 'supp_price': 1.1, 'fresh': {'category': 'Bakery', 'best_before': 5, 'country_of_origin': 'UK'}, 'category': 'fresh'}\n",
            "{'_id': 'PH5', 'name': 'iPhone 13', 'short_desc': 'A flat chassis analogous to that of contemporaneous Apple products, some differences such as the rear cameras being larger and arranged diagonally.', 'dimensions': {'length': 13.15, 'width': 6.42, 'height': 0.76}, 'quantity_per_unit': 0.14, 'avg_ratings': 3.4, 'std_price': 849, 'supp_price': 769, 'mobile_phone': {'brand': 'Apple', 'model': 'iPhone 14', 'colour': 'Starlight', 'features': 'A15 Bionic chip, Face ID, Water and Dust Resistant'}, 'category': 'PH'}\n",
            "{'_id': 'PH10', 'name': 'iPhone X', 'short_desc': 'The first iPhone to use an OLED screen.', 'dimensions': {'length': 14.36, 'width': 7.09, 'height': 0.77}, 'quantity_per_unit': 0.17, 'avg_ratings': 3, 'std_price': 449, 'supp_price': 352, 'mobile_phone': {'brand': 'Apple', 'model': 'iPhone X', 'colour': 'Silver', 'features': 'A11 Bionic chip, 3D Touch, Super Retina HD display'}, 'category': 'PH'}\n",
            "{'_id': 'B4', 'name': 'Children of the Nova', 'short_desc': 'Children of the Nova formed in San Diego, California in 2007 and incorporates several diffent styles into their brand of progressive rock, inlcuding heavy metal, alternative, punk and jazz.', 'dimensions': {'length': 2.5, 'width': 3, 'height': 5}, 'quantity_per_unit': 0.48, 'avg_ratings': 2.6, 'std_price': 14, 'supp_price': 9, 'book': {'author_name': 'Shawn Paul', 'publisher': 'E-NET WEB PUBLISHING', 'year_of_publication': 2002, 'ISBN': '978-4-2851-1362-4'}, 'category': 'B'}\n",
            "{'_id': 'HA2', 'name': 'Eufy by Anker, BoostIQ RoboVac 11S (Slim), Robot Vacuum Cleaner, Super-Thin', 'short_desc': 'All-New RoboVac: Re-engineered to be the slimmer RoboVac (2.85 inch) but with quiet operation and increased suction power at 1300Pa.', 'dimensions': {'length': 32.5, 'width': 32.5, 'height': 7.2}, 'quantity_per_unit': 2.6, 'avg_ratings': 3.8, 'std_price': 190.85, 'supp_price': 100, 'home_appliance': {'colour': 'black', 'voltage': 120, 'style': '11S'}, 'category': 'HA'}\n"
          ]
        }
      ]
    },
    {
      "cell_type": "code",
      "source": [
        "# 9.Find a product named \"Led Zepellin IV\" and show its ID and name.\n",
        "for doc in productCollection.find({\"name\":\"Led Zepellin IV\"},{\"_id\": 1, \"name\": 1, \"current_orders\":1}):\n",
        "  print(doc)\n",
        "\n"
      ],
      "metadata": {
        "colab": {
          "base_uri": "https://localhost:8080/"
        },
        "id": "OLW0R-hcSYVl",
        "outputId": "b3491db2-f076-453c-d57b-21ac5f09d3e0"
      },
      "execution_count": 62,
      "outputs": [
        {
          "output_type": "stream",
          "name": "stdout",
          "text": [
            "{'_id': 'CD2', 'name': 'Led Zepellin IV'}\n"
          ]
        }
      ]
    },
    {
      "cell_type": "code",
      "source": [
        "#10. Customer looking to buy a book written by \"Leonard Reyes\". Write a query to find this book.\n",
        "book_query = {\"book.author_name\": \"Leonard Reyes\"}\n",
        "result = productCollection.find(book_query)\n",
        "\n",
        "for book in result:\n",
        "    print(book)\n"
      ],
      "metadata": {
        "colab": {
          "base_uri": "https://localhost:8080/"
        },
        "id": "As7NPIDMNznM",
        "outputId": "f10ba2e2-6764-4b08-eb52-422cb9fb3355"
      },
      "execution_count": 63,
      "outputs": [
        {
          "output_type": "stream",
          "name": "stdout",
          "text": [
            "{'_id': 'B8', 'name': 'The Psychology of Money', 'short_desc': 'In this book, Morgan Housel addresses the often-neglected fact that we are irrational, emotional beings, not ROI-optimizing machines. Your financial success depends more on your soft skills (how you manage your psychology and emotional impulses) than your technical skills on financial analyses, market rules/laws', 'dimensions': {'length': 2.5, 'width': 3, 'height': 9}, 'quantity_per_unit': 0.4, 'avg_ratings': 3, 'std_price': 10.99, 'supp_price': 6.99, 'book': {'author_name': 'Leonard Reyes', 'publisher': 'Cve Inc', 'year_of_publication': 2020, 'ISBN': '978-1-0628-6609-4'}, 'category': 'B'}\n"
          ]
        }
      ]
    },
    {
      "cell_type": "code",
      "source": [
        "#11. Call partners collection. \n",
        "partnerCollection = myDB[\"partner\"]"
      ],
      "metadata": {
        "id": "UukPcqAYY2xV"
      },
      "execution_count": 64,
      "outputs": []
    },
    {
      "cell_type": "code",
      "source": [
        "for doc in partnerCollection.find():\n",
        "  print(doc)\n"
      ],
      "metadata": {
        "colab": {
          "base_uri": "https://localhost:8080/"
        },
        "id": "0HXQmmTPPvs7",
        "outputId": "da5e5e9e-3aec-4a71-c7d9-3b57e03eca89"
      },
      "execution_count": 65,
      "outputs": [
        {
          "output_type": "stream",
          "name": "stdout",
          "text": [
            "{'_id': 'PA2', 'name': 'Robert Chaniago', 'age': 23, 'gender': 'M', 'phone': '07412744098', 'email': 'robert.chan@gmail.com', 'bank_account': {'account_name': 'Robert Chaniago', 'account_number': 90375895, 'sort_code': '040067'}, 'availabilty': {'is_active': 1, 'on_delivery': 0, 'location': {'type': 'Point', 'coordinates': [53.4680182503661, -2.25975047297267]}}, 'deliveries_made': 90, 'avg_per_week': 10, 'best_week': 15, 'number_of_week': 9}\n",
            "{'_id': 'PA3', 'name': 'Hashim Ridwan', 'age': 34, 'gender': 'M', 'phone': '07212327676', 'email': 'hashim.ridwan@gmail.com', 'bank_account': {'account_name': 'Hashim Ridwan', 'account_number': 90375949, 'sort_code': '040068'}, 'availabilty': {'is_active': 1, 'on_delivery': 1, 'location': {'type': 'Point', 'coordinates': [53.4776969799554, -2.24981381392062]}}, 'deliveries_made': 140, 'avg_per_week': 6, 'best_week': 18, 'number_of_week': 5}\n",
            "{'_id': 'PA5', 'name': 'Alan Smith', 'age': 29, 'gender': 'M', 'phone': '07518346320', 'email': 'alan.smith@gmail.com', 'bank_account': {'account_name': 'Alan Smith', 'account_number': 90370873, 'sort_code': '040070'}, 'availabilty': {'is_active': 1, 'on_delivery': 0, 'location': {'type': 'Point', 'coordinates': [53.4670279483458, -2.23420195516825]}}, 'deliveries_made': 120, 'avg_per_week': 10, 'best_week': 15, 'number_of_week': 12}\n",
            "{'_id': 'PA1', 'name': 'Mike Dean', 'age': 20, 'gender': 'M', 'phone': '07618259974', 'email': 'mike.dean@gmail.com', 'bank_account': {'account_name': 'Mike Dean', 'account_number': 90375644, 'sort_code': '040066'}, 'availabilty': {'is_active': 1, 'on_delivery': 1, 'location': {'type': 'Point', 'coordinates': [53.4677271663732, -2.2644175798471]}}, 'deliveries_made': 150, 'avg_per_week': 14.5, 'best_week': 20, 'number_of_week': 12}\n",
            "{'_id': 'PA4', 'name': 'Sebastian Kanu', 'age': 45, 'gender': 'M', 'phone': '07316371076', 'email': 'se.kanu@gmail.com', 'bank_account': {'account_name': 'Sebastian Kanu', 'account_number': 90379876, 'sort_code': '040069'}, 'availabilty': {'is_active': 1, 'on_delivery': 0, 'location': {'type': 'Point', 'coordinates': [53.4790061833328, -2.24166613179563]}}, 'deliveries_made': 125, 'avg_per_week': 12.5, 'best_week': 20, 'number_of_week': 10}\n"
          ]
        }
      ]
    },
    {
      "cell_type": "code",
      "source": [
        "#12. Write a query to find the most productive partner in terms of average number of deliveries\n",
        "pipeline = [\n",
        "    {\n",
        "        '$group': {\n",
        "            '_id': None,\n",
        "            'avg_deliveries': {'$avg': '$deliveries_made'}\n",
        "        }\n",
        "    },\n",
        "    {\n",
        "        '$sort': {'avg_deliveries': -1}\n",
        "    },\n",
        "    {\n",
        "        '$limit': 1\n",
        "    }\n",
        "]\n",
        "\n",
        "result = myDB['partner'].aggregate(pipeline)\n",
        "\n",
        "for doc in result:\n",
        "    print('Most productive partner:')\n",
        "    print(doc)\n",
        "\n",
        "\n",
        "result = partnerCollection.aggregate(pipeline)\n",
        "\n",
        "for partner in result:\n",
        "    print(partner)\n"
      ],
      "metadata": {
        "id": "lPLCp-k-Y2a6",
        "colab": {
          "base_uri": "https://localhost:8080/"
        },
        "outputId": "135e542c-fb7e-42c6-e8c7-45c2d6e6b79f"
      },
      "execution_count": 66,
      "outputs": [
        {
          "output_type": "stream",
          "name": "stdout",
          "text": [
            "Most productive partner:\n",
            "{'_id': None, 'avg_deliveries': 125.0}\n",
            "{'_id': None, 'avg_deliveries': 125.0}\n"
          ]
        }
      ]
    },
    {
      "cell_type": "code",
      "source": [
        "#13. Write a query to identify the partner who makes the most deliveries on average per week. [1\n",
        "\n",
        "rpipeline = [\n",
        "    {\n",
        "        '$group': {\n",
        "            '_id': '$_id',\n",
        "            'avg_deliveries_per_week': {'$avg': '$avg_per_week'}\n",
        "        }\n",
        "    },\n",
        "    {\n",
        "        '$sort': {'avg_deliveries_per_week': -1}\n",
        "    },\n",
        "    {\n",
        "        '$limit': 1\n",
        "    }\n",
        "]\n",
        "\n",
        "result = myDB['partner'].aggregate(pipeline)\n",
        "\n",
        "for doc in result:\n",
        "    print('Partner with the most deliveries per week:')\n",
        "    print(doc)\n"
      ],
      "metadata": {
        "id": "InLmVCZAY2Yk",
        "colab": {
          "base_uri": "https://localhost:8080/"
        },
        "outputId": "fc3a685d-d7ea-4ec7-c2c9-99b139abcf03"
      },
      "execution_count": 67,
      "outputs": [
        {
          "output_type": "stream",
          "name": "stdout",
          "text": [
            "Partner with the most deliveries per week:\n",
            "{'_id': None, 'avg_deliveries': 125.0}\n"
          ]
        }
      ]
    },
    {
      "cell_type": "code",
      "source": [
        " #14. Write a query to find the highest rated products. \n",
        "pipeline = [\n",
        "    {\n",
        "        '$sort': {'rating': -1}\n",
        "    },\n",
        "    {\n",
        "        '$limit': 5\n",
        "    }\n",
        "]\n",
        "\n",
        "result = myDB['product'].aggregate(pipeline)\n",
        "\n",
        "print('Top rated products:')\n",
        "for doc in result:\n",
        "    print(doc)\n"
      ],
      "metadata": {
        "id": "MiZaB2n3Y2V-",
        "colab": {
          "base_uri": "https://localhost:8080/"
        },
        "outputId": "74daee53-f76a-4cdf-e899-ca1a658f1bc4"
      },
      "execution_count": 68,
      "outputs": [
        {
          "output_type": "stream",
          "name": "stdout",
          "text": [
            "Top rated products:\n",
            "{'_id': 'B7', 'name': 'The Alchemist', 'short_desc': 'The Alchemist is a classic novel in which a boy named Santiago embarks on a journey seeking treasure in the Egyptian pyramids after having a recurring dream about it and on the way meets mentors, falls in love, and most importantly, learns the true importance of who he is and how to improve himself', 'dimensions': {'length': 2.5, 'width': 3, 'height': 8}, 'quantity_per_unit': 0.6, 'avg_ratings': 2.6, 'std_price': 16.99, 'supp_price': 12.99, 'book': {'author_name': 'Miles Gibson', 'publisher': 'HarperCollins Publishers', 'year_of_publication': 1988, 'ISBN': '978-5-9546-3550-8'}, 'category': 'B'}\n",
            "{'_id': 'FP3', 'name': 'Pie', 'short_desc': 'normal bread', 'dimensions': {'length': 0.3, 'width': 0.4, 'height': 0.6}, 'quantity_per_unit': 0.5, 'avg_ratings': 2.4, 'std_price': 2, 'supp_price': 1.2, 'fresh': {'category': 'Bakery', 'best_before': 5, 'country_of_origin': 'UK'}, 'category': 'fresh'}\n",
            "{'_id': 'CD9', 'name': 'Ladies & Gentlemen', 'short_desc': 'The collection of 29 songs is separated into two-halves, with each CD of the double set containing music of a particular theme and mood. ', 'dimensions': {'length': 12, 'width': 12, 'height': 3}, 'quantity_per_unit': 0.4, 'avg_ratings': 3, 'std_price': 18.2, 'supp_price': 9.9, 'cd': {'artist_name': 'George Michael', 'no_of_tracks': 29, 'total_play_time_in_mins': 136, 'publisher': 'Warner Chappell Music Ltd.'}, 'category': 'CD'}\n",
            "{'_id': 'CD10', 'name': 'Hotel California', 'short_desc': 'Released on December 8, 1976, by Asylum Records, Hotel California was recorded by Bill Szymczyk at the Criteria and Record Plant studios between March and October 1976. ', 'dimensions': {'length': 12, 'width': 12, 'height': 2}, 'quantity_per_unit': 0.4, 'avg_ratings': 4, 'std_price': 8.28, 'supp_price': 6, 'cd': {'artist_name': 'Eagles', 'no_of_tracks': 9, 'total_play_time_in_mins': 43, 'publisher': 'Warner Bros Records'}, 'category': 'CD'}\n",
            "{'_id': 'PH4', 'name': 'Huawei P9', 'short_desc': 'A 5.2-inch Full HD IPS-NEO LCD display and runs on Android 6.0 Marshmallow OS', 'dimensions': {'length': 14.5, 'width': 7.09, 'height': 0.7}, 'quantity_per_unit': 0.14, 'avg_ratings': 3.6, 'std_price': 100, 'supp_price': 55, 'mobile_phone': {'brand': 'Huawei', 'model': 'P9', 'colour': 'Ceramic White', 'features': 'IPS-NEO LCD display, Quad-core 2.5 GHz, Fingerprint Sensor'}, 'category': 'PH'}\n"
          ]
        }
      ]
    },
    {
      "cell_type": "code",
      "source": [
        "#15. Write a query to find the lowest rated products. \n",
        "\n",
        "pipeline = [\n",
        "    {\n",
        "        '$sort': {'rating': 1}\n",
        "    },\n",
        "    {\n",
        "        '$limit': 5\n",
        "    }\n",
        "]\n",
        "\n",
        "result = myDB['product'].aggregate(pipeline)\n",
        "\n",
        "print('Lowest rated products:')\n",
        "for doc in result:\n",
        "    print(doc)\n"
      ],
      "metadata": {
        "id": "loaXaGoJmVGu",
        "colab": {
          "base_uri": "https://localhost:8080/"
        },
        "outputId": "165cfffe-f3c5-4bbf-dfd1-e0b052058049"
      },
      "execution_count": 69,
      "outputs": [
        {
          "output_type": "stream",
          "name": "stdout",
          "text": [
            "Lowest rated products:\n",
            "{'_id': 'B7', 'name': 'The Alchemist', 'short_desc': 'The Alchemist is a classic novel in which a boy named Santiago embarks on a journey seeking treasure in the Egyptian pyramids after having a recurring dream about it and on the way meets mentors, falls in love, and most importantly, learns the true importance of who he is and how to improve himself', 'dimensions': {'length': 2.5, 'width': 3, 'height': 8}, 'quantity_per_unit': 0.6, 'avg_ratings': 2.6, 'std_price': 16.99, 'supp_price': 12.99, 'book': {'author_name': 'Miles Gibson', 'publisher': 'HarperCollins Publishers', 'year_of_publication': 1988, 'ISBN': '978-5-9546-3550-8'}, 'category': 'B'}\n",
            "{'_id': 'FP3', 'name': 'Pie', 'short_desc': 'normal bread', 'dimensions': {'length': 0.3, 'width': 0.4, 'height': 0.6}, 'quantity_per_unit': 0.5, 'avg_ratings': 2.4, 'std_price': 2, 'supp_price': 1.2, 'fresh': {'category': 'Bakery', 'best_before': 5, 'country_of_origin': 'UK'}, 'category': 'fresh'}\n",
            "{'_id': 'CD9', 'name': 'Ladies & Gentlemen', 'short_desc': 'The collection of 29 songs is separated into two-halves, with each CD of the double set containing music of a particular theme and mood. ', 'dimensions': {'length': 12, 'width': 12, 'height': 3}, 'quantity_per_unit': 0.4, 'avg_ratings': 3, 'std_price': 18.2, 'supp_price': 9.9, 'cd': {'artist_name': 'George Michael', 'no_of_tracks': 29, 'total_play_time_in_mins': 136, 'publisher': 'Warner Chappell Music Ltd.'}, 'category': 'CD'}\n",
            "{'_id': 'CD10', 'name': 'Hotel California', 'short_desc': 'Released on December 8, 1976, by Asylum Records, Hotel California was recorded by Bill Szymczyk at the Criteria and Record Plant studios between March and October 1976. ', 'dimensions': {'length': 12, 'width': 12, 'height': 2}, 'quantity_per_unit': 0.4, 'avg_ratings': 4, 'std_price': 8.28, 'supp_price': 6, 'cd': {'artist_name': 'Eagles', 'no_of_tracks': 9, 'total_play_time_in_mins': 43, 'publisher': 'Warner Bros Records'}, 'category': 'CD'}\n",
            "{'_id': 'PH4', 'name': 'Huawei P9', 'short_desc': 'A 5.2-inch Full HD IPS-NEO LCD display and runs on Android 6.0 Marshmallow OS', 'dimensions': {'length': 14.5, 'width': 7.09, 'height': 0.7}, 'quantity_per_unit': 0.14, 'avg_ratings': 3.6, 'std_price': 100, 'supp_price': 55, 'mobile_phone': {'brand': 'Huawei', 'model': 'P9', 'colour': 'Ceramic White', 'features': 'IPS-NEO LCD display, Quad-core 2.5 GHz, Fingerprint Sensor'}, 'category': 'PH'}\n"
          ]
        }
      ]
    },
    {
      "cell_type": "markdown",
      "source": [
        "16.Insert the below document in suppliers collection. [1 mark]\n",
        "suppDoc = {\n",
        "\"_id\": \"ST7\",\n",
        "\"name\": \"Amazon UK SURREY\",\n",
        "\"address\": \"Amazon UK Services Ltd., Unit A100 Brooklands Buisness Park, Vickers Drive\n",
        "4446 SURREY\",\n",
        "\"city\": \"Weybridge\", \"post_code\": \"KT13 0YU\", \"location\": {\n",
        "\"type\": \"Point\", \"coordinates\": [\n",
        "51.314759,\n",
        "-0.474149 ]\n",
        "}}"
      ],
      "metadata": {
        "id": "SjJjY0VgilJY"
      }
    },
    {
      "cell_type": "code",
      "source": [
        "#.16. Insert the below document in suppliers collection. [1 mark]\n",
        "\n",
        "#. Call partners collection. \n",
        "suplierCollection = myDB['suplier']\n",
        "\n",
        "suppDoc = {\n",
        "    \"_id\": \"ST7\",\n",
        "    \"name\": \"Amazon UK SURREY\",\n",
        "    \"address\": \"Amazon UK Services Ltd., Unit A100 Brooklands Business Park, Vickers Drive 4446 SURREY\",\n",
        "    \"city\": \"Weybridge\",\n",
        "    \"post_code\": \"KT13 0YU\",\n",
        "    \"location\": {\n",
        "        \"type\": \"Point\",\n",
        "        \"coordinates\": [51.314759, -0.474149]\n",
        "    }\n",
        "}\n",
        "\n",
        "suplierCollection.insert_one(suppDoc)\n",
        "print('Document inserted successfully.')"
      ],
      "metadata": {
        "id": "-j7gw2ebmq72",
        "colab": {
          "base_uri": "https://localhost:8080/"
        },
        "outputId": "dc4ee9e3-18ba-45b5-d2ad-097ea09161b1"
      },
      "execution_count": 75,
      "outputs": [
        {
          "output_type": "stream",
          "name": "stdout",
          "text": [
            "Document inserted successfully.\n"
          ]
        }
      ]
    },
    {
      "cell_type": "code",
      "source": [
        "#17. Show the updated list of documents in suppliers Collection. \n",
        "documents = suplierCollection.find()\n",
        "for document in documents:\n",
        "    print(document)"
      ],
      "metadata": {
        "id": "6qpRlCymY2SV",
        "colab": {
          "base_uri": "https://localhost:8080/"
        },
        "outputId": "9bb3b998-fd63-49d4-e565-0c2f6d30dd34"
      },
      "execution_count": 76,
      "outputs": [
        {
          "output_type": "stream",
          "name": "stdout",
          "text": [
            "{'_id': 'W1', 'name': 'Amazon UK MAN1', 'address': 'Manchester Airport, 6 Sunbank Ln, Altrincham', 'city': 'Manchester', 'post_code': 'M90 5DL', 'location': {'type': 'Point', 'coordinates': [53.36275842, -2.294618987]}, 'realtime_inventory': [{'product_id': 'B1', 'timestamp': '2022-01-04 15:00:00', 'quantity': 14}, {'product_id': 'B2', 'timestamp': '2022-01-04 15:00:00', 'quantity': 29}, {'product_id': 'B3', 'timestamp': '2022-01-04 15:00:00', 'quantity': 20}, {'product_id': 'B4', 'timestamp': '2022-01-04 15:00:00', 'quantity': 16}, {'product_id': 'B5', 'timestamp': '2022-01-04 15:00:00', 'quantity': 20}, {'product_id': 'B6', 'timestamp': '2022-01-04 15:00:00', 'quantity': 17}, {'product_id': 'B7', 'timestamp': '2022-01-04 15:00:00', 'quantity': 14}, {'product_id': 'B8', 'timestamp': '2022-01-04 15:00:00', 'quantity': 24}, {'product_id': 'B9', 'timestamp': '2022-01-04 15:00:00', 'quantity': 14}, {'product_id': 'B10', 'timestamp': '2022-01-04 15:00:00', 'quantity': 18}, {'product_id': 'CD1', 'timestamp': '2022-01-04 15:00:00', 'quantity': 27}, {'product_id': 'CD2', 'timestamp': '2022-01-04 15:00:00', 'quantity': 0}, {'product_id': 'CD3', 'timestamp': '2022-01-04 15:00:00', 'quantity': 25}, {'product_id': 'CD4', 'timestamp': '2022-01-04 15:00:00', 'quantity': 18}, {'product_id': 'CD5', 'timestamp': '2022-01-04 15:00:00', 'quantity': 14}, {'product_id': 'CD6', 'timestamp': '2022-01-04 15:00:00', 'quantity': 18}, {'product_id': 'CD7', 'timestamp': '2022-01-04 15:00:00', 'quantity': 14}, {'product_id': 'CD8', 'timestamp': '2022-01-04 15:00:00', 'quantity': 24}, {'product_id': 'CD9', 'timestamp': '2022-01-04 15:00:00', 'quantity': 22}, {'product_id': 'CD10', 'timestamp': '2022-01-04 15:00:00', 'quantity': 18}, {'product_id': 'PH1', 'timestamp': '2022-01-04 15:00:00', 'quantity': 14}, {'product_id': 'PH2', 'timestamp': '2022-01-04 15:00:00', 'quantity': 29}, {'product_id': 'PH3', 'timestamp': '2022-01-04 15:00:00', 'quantity': 21}, {'product_id': 'PH4', 'timestamp': '2022-01-04 15:00:00', 'quantity': 16}, {'product_id': 'PH5', 'timestamp': '2022-01-04 15:00:00', 'quantity': 22}, {'product_id': 'PH6', 'timestamp': '2022-01-04 15:00:00', 'quantity': 17}, {'product_id': 'PH7', 'timestamp': '2022-01-04 15:00:00', 'quantity': 14}, {'product_id': 'PH8', 'timestamp': '2022-01-04 15:00:00', 'quantity': 24}, {'product_id': 'PH9', 'timestamp': '2022-01-04 15:00:00', 'quantity': 14}, {'product_id': 'PH10', 'timestamp': '2022-01-04 15:00:00', 'quantity': 20}, {'product_id': 'HA1', 'timestamp': '2022-01-04 15:00:00', 'quantity': 14}, {'product_id': 'HA2', 'timestamp': '2022-01-04 15:00:00', 'quantity': 29}, {'product_id': 'HA3', 'timestamp': '2022-01-04 15:00:00', 'quantity': 21}, {'product_id': 'HA4', 'timestamp': '2022-01-04 15:00:00', 'quantity': 16}, {'product_id': 'HA5', 'timestamp': '2022-01-04 15:00:00', 'quantity': 21}, {'product_id': 'HA6', 'timestamp': '2022-01-04 15:00:00', 'quantity': 18}, {'product_id': 'HA7', 'timestamp': '2022-01-04 15:00:00', 'quantity': 14}, {'product_id': 'HA8', 'timestamp': '2022-01-04 15:00:00', 'quantity': 24}, {'product_id': 'HA9', 'timestamp': '2022-01-04 15:00:00', 'quantity': 15}, {'product_id': 'HA10', 'timestamp': '2022-01-04 15:00:00', 'quantity': 20}]}\n",
            "{'_id': 'ST4', 'name': 'Morrisons Ducie', 'address': '22 Ducie St', 'city': 'Manchester', 'post_code': 'M1 2DP', 'location': {'type': 'Point', 'coordinates': [53.4796395264272, -2.22947498022072]}, 'realtime_inventory': [{'product_id': 'FP1', 'timestamp': '2022-01-04 15:00:00', 'quantity': 25}, {'product_id': 'FP2', 'timestamp': '2022-01-04 15:00:00', 'quantity': 11}, {'product_id': 'FP3', 'timestamp': '2022-01-04 15:00:00', 'quantity': 25}, {'product_id': 'FP4', 'timestamp': '2022-01-04 15:00:00', 'quantity': 20}, {'product_id': 'FP5', 'timestamp': '2022-01-04 15:00:00', 'quantity': 15}, {'product_id': 'FP6', 'timestamp': '2022-01-04 15:00:00', 'quantity': 25}, {'product_id': 'FP7', 'timestamp': '2022-01-04 15:00:00', 'quantity': 45}, {'product_id': 'FP8', 'timestamp': '2022-01-04 15:00:00', 'quantity': 35}, {'product_id': 'FP9', 'timestamp': '2022-01-04 15:00:00', 'quantity': 25}, {'product_id': 'FP10', 'timestamp': '2022-01-04 15:00:00', 'quantity': 44}, {'product_id': 'FP11', 'timestamp': '2022-01-04 15:00:00', 'quantity': 20}, {'product_id': 'FP12', 'timestamp': '2022-01-04 15:00:00', 'quantity': 5}, {'product_id': 'FP13', 'timestamp': '2022-01-04 15:00:00', 'quantity': 40}, {'product_id': 'FP14', 'timestamp': '2022-01-04 15:00:00', 'quantity': 45}, {'product_id': 'FP15', 'timestamp': '2022-01-04 15:00:00', 'quantity': 20}]}\n",
            "{'_id': 'ST2', 'name': 'Morrisons Oxford', 'address': 'Off Grafton St, Oxford Rd', 'city': 'Manchester', 'post_code': 'M13 9NU', 'location': {'type': 'Point', 'coordinates': [53.463585307919, -2.23002894909324]}, 'realtime_inventory': [{'product_id': 'FP1', 'timestamp': '2022-01-04 15:00:00', 'quantity': 2}, {'product_id': 'FP2', 'timestamp': '2022-01-04 15:00:00', 'quantity': 22}, {'product_id': 'FP3', 'timestamp': '2022-01-04 15:00:00', 'quantity': 24}, {'product_id': 'FP4', 'timestamp': '2022-01-04 15:00:00', 'quantity': 15}, {'product_id': 'FP5', 'timestamp': '2022-01-04 15:00:00', 'quantity': 10}, {'product_id': 'FP6', 'timestamp': '2022-01-04 15:00:00', 'quantity': 20}, {'product_id': 'FP7', 'timestamp': '2022-01-04 15:00:00', 'quantity': 25}, {'product_id': 'FP8', 'timestamp': '2022-01-04 15:00:00', 'quantity': 30}, {'product_id': 'FP9', 'timestamp': '2022-01-04 15:00:00', 'quantity': 20}, {'product_id': 'FP10', 'timestamp': '2022-01-04 15:00:00', 'quantity': 40}, {'product_id': 'FP11', 'timestamp': '2022-01-04 15:00:00', 'quantity': 20}, {'product_id': 'FP12', 'timestamp': '2022-01-04 15:00:00', 'quantity': 12}, {'product_id': 'FP13', 'timestamp': '2022-01-04 15:00:00', 'quantity': 14}, {'product_id': 'FP14', 'timestamp': '2022-01-04 15:00:00', 'quantity': 20}, {'product_id': 'FP15', 'timestamp': '2022-01-04 15:00:00', 'quantity': 20}]}\n",
            "{'_id': 'ST6', 'name': 'Morrisons Wilbraham', 'address': '418B Wilbraham Rd, Chorlton-cum-Hardy', 'city': 'Manchester', 'post_code': 'M21 0UA', 'location': {'type': 'Point', 'coordinates': [53.4426805360709, -2.27429698166463]}, 'realtime_inventory': [{'product_id': 'FP1', 'timestamp': '2022-01-04 15:00:00', 'quantity': 25}, {'product_id': 'FP2', 'timestamp': '2022-01-04 15:00:00', 'quantity': 12}, {'product_id': 'FP3', 'timestamp': '2022-01-04 15:00:00', 'quantity': 25}, {'product_id': 'FP4', 'timestamp': '2022-01-04 15:00:00', 'quantity': 20}, {'product_id': 'FP5', 'timestamp': '2022-01-04 15:00:00', 'quantity': 15}, {'product_id': 'FP6', 'timestamp': '2022-01-04 15:00:00', 'quantity': 25}, {'product_id': 'FP7', 'timestamp': '2022-01-04 15:00:00', 'quantity': 45}, {'product_id': 'FP8', 'timestamp': '2022-01-04 15:00:00', 'quantity': 20}, {'product_id': 'FP9', 'timestamp': '2022-01-04 15:00:00', 'quantity': 20}, {'product_id': 'FP10', 'timestamp': '2022-01-04 15:00:00', 'quantity': 20}, {'product_id': 'FP11', 'timestamp': '2022-01-04 15:00:00', 'quantity': 22}, {'product_id': 'FP12', 'timestamp': '2022-01-04 15:00:00', 'quantity': 45}, {'product_id': 'FP13', 'timestamp': '2022-01-04 15:00:00', 'quantity': 40}, {'product_id': 'FP14', 'timestamp': '2022-01-04 15:00:00', 'quantity': 34}, {'product_id': 'FP15', 'timestamp': '2022-01-04 15:00:00', 'quantity': 15}]}\n",
            "{'_id': 'W2', 'name': 'Amazon UK MAN2', 'address': 'Amazon UK Services Ltd., Omega Plot 7c, Orion Boulevard, Great Sankey', 'city': 'Warrington', 'post_code': 'WA5 3XA', 'location': {'type': 'Point', 'coordinates': [53.4206283, -2.6594717]}, 'realtime_inventory': [{'product_id': 'B1', 'timestamp': '2022-01-04 15:00:00', 'quantity': 9}, {'product_id': 'B2', 'timestamp': '2022-01-04 15:00:00', 'quantity': 8}, {'product_id': 'B3', 'timestamp': '2022-01-04 15:00:00', 'quantity': 5}, {'product_id': 'B4', 'timestamp': '2022-01-04 15:00:00', 'quantity': 9}, {'product_id': 'B5', 'timestamp': '2022-01-04 15:00:00', 'quantity': 12}, {'product_id': 'B6', 'timestamp': '2022-01-04 15:00:00', 'quantity': 13}, {'product_id': 'B7', 'timestamp': '2022-01-04 15:00:00', 'quantity': 14}, {'product_id': 'B8', 'timestamp': '2022-01-04 15:00:00', 'quantity': 12}, {'product_id': 'B9', 'timestamp': '2022-01-04 15:00:00', 'quantity': 13}, {'product_id': 'B10', 'timestamp': '2022-01-04 15:00:00', 'quantity': 11}, {'product_id': 'CD1', 'timestamp': '2022-01-04 15:00:00', 'quantity': 12}, {'product_id': 'CD2', 'timestamp': '2022-01-04 15:00:00', 'quantity': 9}, {'product_id': 'CD3', 'timestamp': '2022-01-04 15:00:00', 'quantity': 5}, {'product_id': 'CD4', 'timestamp': '2022-01-04 15:00:00', 'quantity': 9}, {'product_id': 'CD5', 'timestamp': '2022-01-04 15:00:00', 'quantity': 14}, {'product_id': 'CD6', 'timestamp': '2022-01-04 15:00:00', 'quantity': 9}, {'product_id': 'CD7', 'timestamp': '2022-01-04 15:00:00', 'quantity': 14}, {'product_id': 'CD8', 'timestamp': '2022-01-04 15:00:00', 'quantity': 6}, {'product_id': 'CD9', 'timestamp': '2022-01-04 15:00:00', 'quantity': 0}, {'product_id': 'CD10', 'timestamp': '2022-01-04 15:00:00', 'quantity': 10}, {'product_id': 'PH1', 'timestamp': '2022-01-04 15:00:00', 'quantity': 5}, {'product_id': 'PH2', 'timestamp': '2022-01-04 15:00:00', 'quantity': 12}, {'product_id': 'PH3', 'timestamp': '2022-01-04 15:00:00', 'quantity': 12}, {'product_id': 'PH4', 'timestamp': '2022-01-04 15:00:00', 'quantity': 10}, {'product_id': 'PH5', 'timestamp': '2022-01-04 15:00:00', 'quantity': 9}, {'product_id': 'PH6', 'timestamp': '2022-01-04 15:00:00', 'quantity': 8}, {'product_id': 'PH7', 'timestamp': '2022-01-04 15:00:00', 'quantity': 14}, {'product_id': 'PH8', 'timestamp': '2022-01-04 15:00:00', 'quantity': 13}, {'product_id': 'PH9', 'timestamp': '2022-01-04 15:00:00', 'quantity': 11}, {'product_id': 'PH10', 'timestamp': '2022-01-04 15:00:00', 'quantity': 10}, {'product_id': 'HA1', 'timestamp': '2022-01-04 15:00:00', 'quantity': 10}, {'product_id': 'HA2', 'timestamp': '2022-01-04 15:00:00', 'quantity': 4}, {'product_id': 'HA3', 'timestamp': '2022-01-04 15:00:00', 'quantity': 5}, {'product_id': 'HA4', 'timestamp': '2022-01-04 15:00:00', 'quantity': 6}, {'product_id': 'HA5', 'timestamp': '2022-01-04 15:00:00', 'quantity': 7}, {'product_id': 'HA6', 'timestamp': '2022-01-04 15:00:00', 'quantity': 9}, {'product_id': 'HA7', 'timestamp': '2022-01-04 15:00:00', 'quantity': 10}, {'product_id': 'HA8', 'timestamp': '2022-01-04 15:00:00', 'quantity': 14}, {'product_id': 'HA9', 'timestamp': '2022-01-04 15:00:00', 'quantity': 11}, {'product_id': 'HA10', 'timestamp': '2022-01-04 15:00:00', 'quantity': 8}]}\n",
            "{'_id': 'W3', 'name': 'Amazom UK XUKA', 'address': 'DHL Preston Brook (XUKA), Aston Lane North, Whitehouse Industrial Estate', 'city': 'Runcorn', 'post_code': 'WA7 3BN', 'location': {'type': 'Point', 'coordinates': [53.31948, -2.65501]}, 'realtime_inventory': [{'product_id': 'B1', 'timestamp': '2022-01-04 15:00:00', 'quantity': 8}, {'product_id': 'B2', 'timestamp': '2022-01-04 15:00:00', 'quantity': 3}, {'product_id': 'B3', 'timestamp': '2022-01-04 15:00:00', 'quantity': 4}, {'product_id': 'B4', 'timestamp': '2022-01-04 15:00:00', 'quantity': 7}, {'product_id': 'B5', 'timestamp': '2022-01-04 15:00:00', 'quantity': 5}, {'product_id': 'B6', 'timestamp': '2022-01-04 15:00:00', 'quantity': 8}, {'product_id': 'B7', 'timestamp': '2022-01-04 15:00:00', 'quantity': 9}, {'product_id': 'B8', 'timestamp': '2022-01-04 15:00:00', 'quantity': 5}, {'product_id': 'B9', 'timestamp': '2022-01-04 15:00:00', 'quantity': 8}, {'product_id': 'B10', 'timestamp': '2022-01-04 15:00:00', 'quantity': 9}, {'product_id': 'CD1', 'timestamp': '2022-01-04 15:00:00', 'quantity': 7}, {'product_id': 'CD2', 'timestamp': '2022-01-04 15:00:00', 'quantity': 9}, {'product_id': 'CD3', 'timestamp': '2022-01-04 15:00:00', 'quantity': 5}, {'product_id': 'CD4', 'timestamp': '2022-01-04 15:00:00', 'quantity': 3}, {'product_id': 'CD5', 'timestamp': '2022-01-04 15:00:00', 'quantity': 6}, {'product_id': 'CD6', 'timestamp': '2022-01-04 15:00:00', 'quantity': 7}, {'product_id': 'CD7', 'timestamp': '2022-01-04 15:00:00', 'quantity': 5}, {'product_id': 'CD8', 'timestamp': '2022-01-04 15:00:00', 'quantity': 6}, {'product_id': 'CD9', 'timestamp': '2022-01-04 15:00:00', 'quantity': 8}, {'product_id': 'CD10', 'timestamp': '2022-01-04 15:00:00', 'quantity': 5}, {'product_id': 'PH1', 'timestamp': '2022-01-04 15:00:00', 'quantity': 5}, {'product_id': 'PH2', 'timestamp': '2022-01-04 15:00:00', 'quantity': 3}, {'product_id': 'PH3', 'timestamp': '2022-01-04 15:00:00', 'quantity': 2}, {'product_id': 'PH4', 'timestamp': '2022-01-04 15:00:00', 'quantity': 1}, {'product_id': 'PH5', 'timestamp': '2022-01-04 15:00:00', 'quantity': 7}, {'product_id': 'PH6', 'timestamp': '2022-01-04 15:00:00', 'quantity': 3}, {'product_id': 'PH7', 'timestamp': '2022-01-04 15:00:00', 'quantity': 5}, {'product_id': 'PH8', 'timestamp': '2022-01-04 15:00:00', 'quantity': 4}, {'product_id': 'PH9', 'timestamp': '2022-01-04 15:00:00', 'quantity': 9}, {'product_id': 'PH10', 'timestamp': '2022-01-04 15:00:00', 'quantity': 4}, {'product_id': 'HA1', 'timestamp': '2022-01-04 15:00:00', 'quantity': 6}, {'product_id': 'HA2', 'timestamp': '2022-01-04 15:00:00', 'quantity': 9}, {'product_id': 'HA3', 'timestamp': '2022-01-04 15:00:00', 'quantity': 6}, {'product_id': 'HA4', 'timestamp': '2022-01-04 15:00:00', 'quantity': 4}, {'product_id': 'HA5', 'timestamp': '2022-01-04 15:00:00', 'quantity': 7}, {'product_id': 'HA6', 'timestamp': '2022-01-04 15:00:00', 'quantity': 8}, {'product_id': 'HA7', 'timestamp': '2022-01-04 15:00:00', 'quantity': 6}, {'product_id': 'HA8', 'timestamp': '2022-01-04 15:00:00', 'quantity': 1}, {'product_id': 'HA9', 'timestamp': '2022-01-04 15:00:00', 'quantity': 4}, {'product_id': 'HA10', 'timestamp': '2022-01-04 15:00:00', 'quantity': 3}]}\n",
            "{'_id': 'ST3', 'name': 'Morrisons Stretford', 'address': '333 Stretford Rd, Hulme', 'city': 'Manchester', 'post_code': 'M15 4AY', 'location': {'type': 'Point', 'coordinates': [53.4666895236066, -2.2513216579917]}, 'realtime_inventory': [{'product_id': 'FP1', 'timestamp': '2023-01-09T23:26:55.617905', 'quantity': 5}, {'product_id': 'FP2', 'timestamp': '2022-01-04 15:00:00', 'quantity': 19}, {'product_id': 'FP3', 'timestamp': datetime.datetime(2023, 1, 9, 18, 17), 'quantity': 18}, {'product_id': 'FP4', 'timestamp': '2022-01-04 15:00:00', 'quantity': 15}, {'product_id': 'FP5', 'timestamp': '2022-01-04 15:00:00', 'quantity': 12}, {'product_id': 'FP6', 'timestamp': '2022-01-04 15:00:00', 'quantity': 30}, {'product_id': 'FP7', 'timestamp': '2022-01-04 15:00:00', 'quantity': 40}, {'product_id': 'FP8', 'timestamp': '2022-01-04 15:00:00', 'quantity': 33}, {'product_id': 'FP9', 'timestamp': '2022-01-04 15:00:00', 'quantity': 22}, {'product_id': 'FP10', 'timestamp': '2022-01-04 15:00:00', 'quantity': 45}, {'product_id': 'FP11', 'timestamp': '2022-01-04 15:00:00', 'quantity': 15}, {'product_id': 'FP12', 'timestamp': '2022-01-04 15:00:00', 'quantity': 20}, {'product_id': 'FP13', 'timestamp': '2022-01-04 15:00:00', 'quantity': 24}, {'product_id': 'FP14', 'timestamp': '2022-01-04 15:00:00', 'quantity': 40}, {'product_id': 'FP15', 'timestamp': '2022-01-04 15:00:00', 'quantity': 25}]}\n",
            "{'_id': 'ST5', 'name': 'Morrisons Boho', 'address': 'Unit 4, Moho Building', 'city': 'Manchester', 'post_code': 'M15 4JY', 'location': {'type': 'Point', 'coordinates': [53.4713735246263, -2.26417194876941]}, 'realtime_inventory': [{'product_id': 'FP1', 'timestamp': datetime.datetime(2023, 1, 9, 17, 31), 'quantity': 11}, {'product_id': 'FP2', 'timestamp': '2022-01-04 15:00:00', 'quantity': 15}, {'product_id': 'FP3', 'timestamp': datetime.datetime(2023, 1, 9, 18, 17), 'quantity': 16}, {'product_id': 'FP4', 'timestamp': '2022-01-04 15:00:00', 'quantity': 25}, {'product_id': 'FP5', 'timestamp': '2022-01-04 15:00:00', 'quantity': 10}, {'product_id': 'FP6', 'timestamp': '2022-01-04 15:00:00', 'quantity': 20}, {'product_id': 'FP7', 'timestamp': '2022-01-04 15:00:00', 'quantity': 40}, {'product_id': 'FP8', 'timestamp': '2022-01-04 15:00:00', 'quantity': 40}, {'product_id': 'FP9', 'timestamp': '2022-01-04 15:00:00', 'quantity': 40}, {'product_id': 'FP10', 'timestamp': '2022-01-04 15:00:00', 'quantity': 45}, {'product_id': 'FP11', 'timestamp': '2022-01-04 15:00:00', 'quantity': 25}, {'product_id': 'FP12', 'timestamp': '2022-01-04 15:00:00', 'quantity': 50}, {'product_id': 'FP13', 'timestamp': '2022-01-04 15:00:00', 'quantity': 45}, {'product_id': 'FP14', 'timestamp': '2022-01-04 15:00:00', 'quantity': 50}, {'product_id': 'FP15', 'timestamp': '2022-01-04 15:00:00', 'quantity': 25}]}\n",
            "{'_id': 'ST1', 'name': 'Morrisons Piccadilly', 'address': '19-25 Piccadilly', 'city': 'Manchester', 'post_code': 'M1 1LU', 'location': {'type': 'Point', 'coordinates': [53.4808056053302, -2.23495401192835]}, 'realtime_inventory': [{'product_id': 'FP1', 'timestamp': '2022-01-04 15:00:00', 'quantity': 1}, {'product_id': 'FP2', 'timestamp': '2022-01-04 15:00:00', 'quantity': 19}, {'product_id': 'FP3', 'timestamp': '2022-01-04 15:00:00', 'quantity': 12}, {'product_id': 'FP4', 'timestamp': '2022-01-04 15:00:00', 'quantity': 12}, {'product_id': 'FP5', 'timestamp': '2022-01-04 15:00:00', 'quantity': 21}, {'product_id': 'FP6', 'timestamp': '2022-01-04 15:00:00', 'quantity': 21}, {'product_id': 'FP7', 'timestamp': '2022-01-04 15:00:00', 'quantity': 34}, {'product_id': 'FP8', 'timestamp': '2022-01-04 15:00:00', 'quantity': 7}, {'product_id': 'FP9', 'timestamp': '2022-01-04 15:00:00', 'quantity': 60}, {'product_id': 'FP10', 'timestamp': '2022-01-04 15:00:00', 'quantity': 15}, {'product_id': 'FP11', 'timestamp': '2022-01-04 15:00:00', 'quantity': 30}, {'product_id': 'FP12', 'timestamp': '2022-01-04 15:00:00', 'quantity': 22}, {'product_id': 'FP13', 'timestamp': '2022-01-04 15:00:00', 'quantity': 40}, {'product_id': 'FP14', 'timestamp': '2022-01-04 15:00:00', 'quantity': 35}, {'product_id': 'FP15', 'timestamp': '2022-01-04 15:00:00', 'quantity': 40}]}\n",
            "{'_id': 'ST7', 'name': 'Amazon UK SURREY', 'address': 'Amazon UK Services Ltd., Unit A100 Brooklands Business Park, Vickers Drive 4446 SURREY', 'city': 'Weybridge', 'post_code': 'KT13 0YU', 'location': {'type': 'Point', 'coordinates': [51.314759, -0.474149]}}\n"
          ]
        }
      ]
    },
    {
      "cell_type": "code",
      "source": [
        "#18. Update the suppliers document and set the \"Guildford\" as city for the branch named\n",
        "#\"Amazon UK SURREY\". Show the list of documents in suppliers Collection.\n",
        "\n",
        "supliercollection = myDB['suplier']\n",
        "update_result = supliercollection.update_one(\n",
        "    {\"name\": \"Amazon UK SURREY\"},\n",
        "    {\"$set\": {\"city\": \"Guildford\"}}\n",
        ")\n",
        "\n",
        "print('Update result:',update_result )\n",
        "\n",
        "\n"
      ],
      "metadata": {
        "colab": {
          "base_uri": "https://localhost:8080/"
        },
        "id": "Q_g6EBWMVsNK",
        "outputId": "a383b796-292d-473b-b048-40e8e3c24582"
      },
      "execution_count": 77,
      "outputs": [
        {
          "output_type": "stream",
          "name": "stdout",
          "text": [
            "Update result: <pymongo.results.UpdateResult object at 0x7fec4a73fb50>\n"
          ]
        }
      ]
    },
    {
      "cell_type": "code",
      "source": [
        "#19. Delete a list of suppliers for the \"Amazon UK SURREY\" branch in the \"Guildford\" city.\n",
        "suplierCollection = myDB['suplier']\n",
        "delete_result = suplierCollection.delete_many({\n",
        "    \"name\": \"Amazon UK SURREY\",\n",
        "    \"city\": \"Guildford\"\n",
        "})\n",
        "\n"
      ],
      "metadata": {
        "id": "1YOymH1iZIE2"
      },
      "execution_count": 78,
      "outputs": []
    },
    {
      "cell_type": "code",
      "source": [
        "#20. Show the updated list of documents in suppliers Collection. \n",
        "\n",
        "#. Call partners collection. \n",
        "suplierCollection = myDB[\"suplier\"]\n",
        "# Display the documents\n",
        "for doc in suplierCollection.find():\n",
        "  print(doc)\n"
      ],
      "metadata": {
        "id": "AU542hkoZH8z",
        "colab": {
          "base_uri": "https://localhost:8080/"
        },
        "outputId": "9d4d1542-2d05-445f-e0a1-d6ed22db092c"
      },
      "execution_count": 79,
      "outputs": [
        {
          "output_type": "stream",
          "name": "stdout",
          "text": [
            "{'_id': 'W1', 'name': 'Amazon UK MAN1', 'address': 'Manchester Airport, 6 Sunbank Ln, Altrincham', 'city': 'Manchester', 'post_code': 'M90 5DL', 'location': {'type': 'Point', 'coordinates': [53.36275842, -2.294618987]}, 'realtime_inventory': [{'product_id': 'B1', 'timestamp': '2022-01-04 15:00:00', 'quantity': 14}, {'product_id': 'B2', 'timestamp': '2022-01-04 15:00:00', 'quantity': 29}, {'product_id': 'B3', 'timestamp': '2022-01-04 15:00:00', 'quantity': 20}, {'product_id': 'B4', 'timestamp': '2022-01-04 15:00:00', 'quantity': 16}, {'product_id': 'B5', 'timestamp': '2022-01-04 15:00:00', 'quantity': 20}, {'product_id': 'B6', 'timestamp': '2022-01-04 15:00:00', 'quantity': 17}, {'product_id': 'B7', 'timestamp': '2022-01-04 15:00:00', 'quantity': 14}, {'product_id': 'B8', 'timestamp': '2022-01-04 15:00:00', 'quantity': 24}, {'product_id': 'B9', 'timestamp': '2022-01-04 15:00:00', 'quantity': 14}, {'product_id': 'B10', 'timestamp': '2022-01-04 15:00:00', 'quantity': 18}, {'product_id': 'CD1', 'timestamp': '2022-01-04 15:00:00', 'quantity': 27}, {'product_id': 'CD2', 'timestamp': '2022-01-04 15:00:00', 'quantity': 0}, {'product_id': 'CD3', 'timestamp': '2022-01-04 15:00:00', 'quantity': 25}, {'product_id': 'CD4', 'timestamp': '2022-01-04 15:00:00', 'quantity': 18}, {'product_id': 'CD5', 'timestamp': '2022-01-04 15:00:00', 'quantity': 14}, {'product_id': 'CD6', 'timestamp': '2022-01-04 15:00:00', 'quantity': 18}, {'product_id': 'CD7', 'timestamp': '2022-01-04 15:00:00', 'quantity': 14}, {'product_id': 'CD8', 'timestamp': '2022-01-04 15:00:00', 'quantity': 24}, {'product_id': 'CD9', 'timestamp': '2022-01-04 15:00:00', 'quantity': 22}, {'product_id': 'CD10', 'timestamp': '2022-01-04 15:00:00', 'quantity': 18}, {'product_id': 'PH1', 'timestamp': '2022-01-04 15:00:00', 'quantity': 14}, {'product_id': 'PH2', 'timestamp': '2022-01-04 15:00:00', 'quantity': 29}, {'product_id': 'PH3', 'timestamp': '2022-01-04 15:00:00', 'quantity': 21}, {'product_id': 'PH4', 'timestamp': '2022-01-04 15:00:00', 'quantity': 16}, {'product_id': 'PH5', 'timestamp': '2022-01-04 15:00:00', 'quantity': 22}, {'product_id': 'PH6', 'timestamp': '2022-01-04 15:00:00', 'quantity': 17}, {'product_id': 'PH7', 'timestamp': '2022-01-04 15:00:00', 'quantity': 14}, {'product_id': 'PH8', 'timestamp': '2022-01-04 15:00:00', 'quantity': 24}, {'product_id': 'PH9', 'timestamp': '2022-01-04 15:00:00', 'quantity': 14}, {'product_id': 'PH10', 'timestamp': '2022-01-04 15:00:00', 'quantity': 20}, {'product_id': 'HA1', 'timestamp': '2022-01-04 15:00:00', 'quantity': 14}, {'product_id': 'HA2', 'timestamp': '2022-01-04 15:00:00', 'quantity': 29}, {'product_id': 'HA3', 'timestamp': '2022-01-04 15:00:00', 'quantity': 21}, {'product_id': 'HA4', 'timestamp': '2022-01-04 15:00:00', 'quantity': 16}, {'product_id': 'HA5', 'timestamp': '2022-01-04 15:00:00', 'quantity': 21}, {'product_id': 'HA6', 'timestamp': '2022-01-04 15:00:00', 'quantity': 18}, {'product_id': 'HA7', 'timestamp': '2022-01-04 15:00:00', 'quantity': 14}, {'product_id': 'HA8', 'timestamp': '2022-01-04 15:00:00', 'quantity': 24}, {'product_id': 'HA9', 'timestamp': '2022-01-04 15:00:00', 'quantity': 15}, {'product_id': 'HA10', 'timestamp': '2022-01-04 15:00:00', 'quantity': 20}]}\n",
            "{'_id': 'ST4', 'name': 'Morrisons Ducie', 'address': '22 Ducie St', 'city': 'Manchester', 'post_code': 'M1 2DP', 'location': {'type': 'Point', 'coordinates': [53.4796395264272, -2.22947498022072]}, 'realtime_inventory': [{'product_id': 'FP1', 'timestamp': '2022-01-04 15:00:00', 'quantity': 25}, {'product_id': 'FP2', 'timestamp': '2022-01-04 15:00:00', 'quantity': 11}, {'product_id': 'FP3', 'timestamp': '2022-01-04 15:00:00', 'quantity': 25}, {'product_id': 'FP4', 'timestamp': '2022-01-04 15:00:00', 'quantity': 20}, {'product_id': 'FP5', 'timestamp': '2022-01-04 15:00:00', 'quantity': 15}, {'product_id': 'FP6', 'timestamp': '2022-01-04 15:00:00', 'quantity': 25}, {'product_id': 'FP7', 'timestamp': '2022-01-04 15:00:00', 'quantity': 45}, {'product_id': 'FP8', 'timestamp': '2022-01-04 15:00:00', 'quantity': 35}, {'product_id': 'FP9', 'timestamp': '2022-01-04 15:00:00', 'quantity': 25}, {'product_id': 'FP10', 'timestamp': '2022-01-04 15:00:00', 'quantity': 44}, {'product_id': 'FP11', 'timestamp': '2022-01-04 15:00:00', 'quantity': 20}, {'product_id': 'FP12', 'timestamp': '2022-01-04 15:00:00', 'quantity': 5}, {'product_id': 'FP13', 'timestamp': '2022-01-04 15:00:00', 'quantity': 40}, {'product_id': 'FP14', 'timestamp': '2022-01-04 15:00:00', 'quantity': 45}, {'product_id': 'FP15', 'timestamp': '2022-01-04 15:00:00', 'quantity': 20}]}\n",
            "{'_id': 'ST2', 'name': 'Morrisons Oxford', 'address': 'Off Grafton St, Oxford Rd', 'city': 'Manchester', 'post_code': 'M13 9NU', 'location': {'type': 'Point', 'coordinates': [53.463585307919, -2.23002894909324]}, 'realtime_inventory': [{'product_id': 'FP1', 'timestamp': '2022-01-04 15:00:00', 'quantity': 2}, {'product_id': 'FP2', 'timestamp': '2022-01-04 15:00:00', 'quantity': 22}, {'product_id': 'FP3', 'timestamp': '2022-01-04 15:00:00', 'quantity': 24}, {'product_id': 'FP4', 'timestamp': '2022-01-04 15:00:00', 'quantity': 15}, {'product_id': 'FP5', 'timestamp': '2022-01-04 15:00:00', 'quantity': 10}, {'product_id': 'FP6', 'timestamp': '2022-01-04 15:00:00', 'quantity': 20}, {'product_id': 'FP7', 'timestamp': '2022-01-04 15:00:00', 'quantity': 25}, {'product_id': 'FP8', 'timestamp': '2022-01-04 15:00:00', 'quantity': 30}, {'product_id': 'FP9', 'timestamp': '2022-01-04 15:00:00', 'quantity': 20}, {'product_id': 'FP10', 'timestamp': '2022-01-04 15:00:00', 'quantity': 40}, {'product_id': 'FP11', 'timestamp': '2022-01-04 15:00:00', 'quantity': 20}, {'product_id': 'FP12', 'timestamp': '2022-01-04 15:00:00', 'quantity': 12}, {'product_id': 'FP13', 'timestamp': '2022-01-04 15:00:00', 'quantity': 14}, {'product_id': 'FP14', 'timestamp': '2022-01-04 15:00:00', 'quantity': 20}, {'product_id': 'FP15', 'timestamp': '2022-01-04 15:00:00', 'quantity': 20}]}\n",
            "{'_id': 'ST6', 'name': 'Morrisons Wilbraham', 'address': '418B Wilbraham Rd, Chorlton-cum-Hardy', 'city': 'Manchester', 'post_code': 'M21 0UA', 'location': {'type': 'Point', 'coordinates': [53.4426805360709, -2.27429698166463]}, 'realtime_inventory': [{'product_id': 'FP1', 'timestamp': '2022-01-04 15:00:00', 'quantity': 25}, {'product_id': 'FP2', 'timestamp': '2022-01-04 15:00:00', 'quantity': 12}, {'product_id': 'FP3', 'timestamp': '2022-01-04 15:00:00', 'quantity': 25}, {'product_id': 'FP4', 'timestamp': '2022-01-04 15:00:00', 'quantity': 20}, {'product_id': 'FP5', 'timestamp': '2022-01-04 15:00:00', 'quantity': 15}, {'product_id': 'FP6', 'timestamp': '2022-01-04 15:00:00', 'quantity': 25}, {'product_id': 'FP7', 'timestamp': '2022-01-04 15:00:00', 'quantity': 45}, {'product_id': 'FP8', 'timestamp': '2022-01-04 15:00:00', 'quantity': 20}, {'product_id': 'FP9', 'timestamp': '2022-01-04 15:00:00', 'quantity': 20}, {'product_id': 'FP10', 'timestamp': '2022-01-04 15:00:00', 'quantity': 20}, {'product_id': 'FP11', 'timestamp': '2022-01-04 15:00:00', 'quantity': 22}, {'product_id': 'FP12', 'timestamp': '2022-01-04 15:00:00', 'quantity': 45}, {'product_id': 'FP13', 'timestamp': '2022-01-04 15:00:00', 'quantity': 40}, {'product_id': 'FP14', 'timestamp': '2022-01-04 15:00:00', 'quantity': 34}, {'product_id': 'FP15', 'timestamp': '2022-01-04 15:00:00', 'quantity': 15}]}\n",
            "{'_id': 'W2', 'name': 'Amazon UK MAN2', 'address': 'Amazon UK Services Ltd., Omega Plot 7c, Orion Boulevard, Great Sankey', 'city': 'Warrington', 'post_code': 'WA5 3XA', 'location': {'type': 'Point', 'coordinates': [53.4206283, -2.6594717]}, 'realtime_inventory': [{'product_id': 'B1', 'timestamp': '2022-01-04 15:00:00', 'quantity': 9}, {'product_id': 'B2', 'timestamp': '2022-01-04 15:00:00', 'quantity': 8}, {'product_id': 'B3', 'timestamp': '2022-01-04 15:00:00', 'quantity': 5}, {'product_id': 'B4', 'timestamp': '2022-01-04 15:00:00', 'quantity': 9}, {'product_id': 'B5', 'timestamp': '2022-01-04 15:00:00', 'quantity': 12}, {'product_id': 'B6', 'timestamp': '2022-01-04 15:00:00', 'quantity': 13}, {'product_id': 'B7', 'timestamp': '2022-01-04 15:00:00', 'quantity': 14}, {'product_id': 'B8', 'timestamp': '2022-01-04 15:00:00', 'quantity': 12}, {'product_id': 'B9', 'timestamp': '2022-01-04 15:00:00', 'quantity': 13}, {'product_id': 'B10', 'timestamp': '2022-01-04 15:00:00', 'quantity': 11}, {'product_id': 'CD1', 'timestamp': '2022-01-04 15:00:00', 'quantity': 12}, {'product_id': 'CD2', 'timestamp': '2022-01-04 15:00:00', 'quantity': 9}, {'product_id': 'CD3', 'timestamp': '2022-01-04 15:00:00', 'quantity': 5}, {'product_id': 'CD4', 'timestamp': '2022-01-04 15:00:00', 'quantity': 9}, {'product_id': 'CD5', 'timestamp': '2022-01-04 15:00:00', 'quantity': 14}, {'product_id': 'CD6', 'timestamp': '2022-01-04 15:00:00', 'quantity': 9}, {'product_id': 'CD7', 'timestamp': '2022-01-04 15:00:00', 'quantity': 14}, {'product_id': 'CD8', 'timestamp': '2022-01-04 15:00:00', 'quantity': 6}, {'product_id': 'CD9', 'timestamp': '2022-01-04 15:00:00', 'quantity': 0}, {'product_id': 'CD10', 'timestamp': '2022-01-04 15:00:00', 'quantity': 10}, {'product_id': 'PH1', 'timestamp': '2022-01-04 15:00:00', 'quantity': 5}, {'product_id': 'PH2', 'timestamp': '2022-01-04 15:00:00', 'quantity': 12}, {'product_id': 'PH3', 'timestamp': '2022-01-04 15:00:00', 'quantity': 12}, {'product_id': 'PH4', 'timestamp': '2022-01-04 15:00:00', 'quantity': 10}, {'product_id': 'PH5', 'timestamp': '2022-01-04 15:00:00', 'quantity': 9}, {'product_id': 'PH6', 'timestamp': '2022-01-04 15:00:00', 'quantity': 8}, {'product_id': 'PH7', 'timestamp': '2022-01-04 15:00:00', 'quantity': 14}, {'product_id': 'PH8', 'timestamp': '2022-01-04 15:00:00', 'quantity': 13}, {'product_id': 'PH9', 'timestamp': '2022-01-04 15:00:00', 'quantity': 11}, {'product_id': 'PH10', 'timestamp': '2022-01-04 15:00:00', 'quantity': 10}, {'product_id': 'HA1', 'timestamp': '2022-01-04 15:00:00', 'quantity': 10}, {'product_id': 'HA2', 'timestamp': '2022-01-04 15:00:00', 'quantity': 4}, {'product_id': 'HA3', 'timestamp': '2022-01-04 15:00:00', 'quantity': 5}, {'product_id': 'HA4', 'timestamp': '2022-01-04 15:00:00', 'quantity': 6}, {'product_id': 'HA5', 'timestamp': '2022-01-04 15:00:00', 'quantity': 7}, {'product_id': 'HA6', 'timestamp': '2022-01-04 15:00:00', 'quantity': 9}, {'product_id': 'HA7', 'timestamp': '2022-01-04 15:00:00', 'quantity': 10}, {'product_id': 'HA8', 'timestamp': '2022-01-04 15:00:00', 'quantity': 14}, {'product_id': 'HA9', 'timestamp': '2022-01-04 15:00:00', 'quantity': 11}, {'product_id': 'HA10', 'timestamp': '2022-01-04 15:00:00', 'quantity': 8}]}\n",
            "{'_id': 'W3', 'name': 'Amazom UK XUKA', 'address': 'DHL Preston Brook (XUKA), Aston Lane North, Whitehouse Industrial Estate', 'city': 'Runcorn', 'post_code': 'WA7 3BN', 'location': {'type': 'Point', 'coordinates': [53.31948, -2.65501]}, 'realtime_inventory': [{'product_id': 'B1', 'timestamp': '2022-01-04 15:00:00', 'quantity': 8}, {'product_id': 'B2', 'timestamp': '2022-01-04 15:00:00', 'quantity': 3}, {'product_id': 'B3', 'timestamp': '2022-01-04 15:00:00', 'quantity': 4}, {'product_id': 'B4', 'timestamp': '2022-01-04 15:00:00', 'quantity': 7}, {'product_id': 'B5', 'timestamp': '2022-01-04 15:00:00', 'quantity': 5}, {'product_id': 'B6', 'timestamp': '2022-01-04 15:00:00', 'quantity': 8}, {'product_id': 'B7', 'timestamp': '2022-01-04 15:00:00', 'quantity': 9}, {'product_id': 'B8', 'timestamp': '2022-01-04 15:00:00', 'quantity': 5}, {'product_id': 'B9', 'timestamp': '2022-01-04 15:00:00', 'quantity': 8}, {'product_id': 'B10', 'timestamp': '2022-01-04 15:00:00', 'quantity': 9}, {'product_id': 'CD1', 'timestamp': '2022-01-04 15:00:00', 'quantity': 7}, {'product_id': 'CD2', 'timestamp': '2022-01-04 15:00:00', 'quantity': 9}, {'product_id': 'CD3', 'timestamp': '2022-01-04 15:00:00', 'quantity': 5}, {'product_id': 'CD4', 'timestamp': '2022-01-04 15:00:00', 'quantity': 3}, {'product_id': 'CD5', 'timestamp': '2022-01-04 15:00:00', 'quantity': 6}, {'product_id': 'CD6', 'timestamp': '2022-01-04 15:00:00', 'quantity': 7}, {'product_id': 'CD7', 'timestamp': '2022-01-04 15:00:00', 'quantity': 5}, {'product_id': 'CD8', 'timestamp': '2022-01-04 15:00:00', 'quantity': 6}, {'product_id': 'CD9', 'timestamp': '2022-01-04 15:00:00', 'quantity': 8}, {'product_id': 'CD10', 'timestamp': '2022-01-04 15:00:00', 'quantity': 5}, {'product_id': 'PH1', 'timestamp': '2022-01-04 15:00:00', 'quantity': 5}, {'product_id': 'PH2', 'timestamp': '2022-01-04 15:00:00', 'quantity': 3}, {'product_id': 'PH3', 'timestamp': '2022-01-04 15:00:00', 'quantity': 2}, {'product_id': 'PH4', 'timestamp': '2022-01-04 15:00:00', 'quantity': 1}, {'product_id': 'PH5', 'timestamp': '2022-01-04 15:00:00', 'quantity': 7}, {'product_id': 'PH6', 'timestamp': '2022-01-04 15:00:00', 'quantity': 3}, {'product_id': 'PH7', 'timestamp': '2022-01-04 15:00:00', 'quantity': 5}, {'product_id': 'PH8', 'timestamp': '2022-01-04 15:00:00', 'quantity': 4}, {'product_id': 'PH9', 'timestamp': '2022-01-04 15:00:00', 'quantity': 9}, {'product_id': 'PH10', 'timestamp': '2022-01-04 15:00:00', 'quantity': 4}, {'product_id': 'HA1', 'timestamp': '2022-01-04 15:00:00', 'quantity': 6}, {'product_id': 'HA2', 'timestamp': '2022-01-04 15:00:00', 'quantity': 9}, {'product_id': 'HA3', 'timestamp': '2022-01-04 15:00:00', 'quantity': 6}, {'product_id': 'HA4', 'timestamp': '2022-01-04 15:00:00', 'quantity': 4}, {'product_id': 'HA5', 'timestamp': '2022-01-04 15:00:00', 'quantity': 7}, {'product_id': 'HA6', 'timestamp': '2022-01-04 15:00:00', 'quantity': 8}, {'product_id': 'HA7', 'timestamp': '2022-01-04 15:00:00', 'quantity': 6}, {'product_id': 'HA8', 'timestamp': '2022-01-04 15:00:00', 'quantity': 1}, {'product_id': 'HA9', 'timestamp': '2022-01-04 15:00:00', 'quantity': 4}, {'product_id': 'HA10', 'timestamp': '2022-01-04 15:00:00', 'quantity': 3}]}\n",
            "{'_id': 'ST3', 'name': 'Morrisons Stretford', 'address': '333 Stretford Rd, Hulme', 'city': 'Manchester', 'post_code': 'M15 4AY', 'location': {'type': 'Point', 'coordinates': [53.4666895236066, -2.2513216579917]}, 'realtime_inventory': [{'product_id': 'FP1', 'timestamp': '2023-01-09T23:26:55.617905', 'quantity': 5}, {'product_id': 'FP2', 'timestamp': '2022-01-04 15:00:00', 'quantity': 19}, {'product_id': 'FP3', 'timestamp': datetime.datetime(2023, 1, 9, 18, 17), 'quantity': 18}, {'product_id': 'FP4', 'timestamp': '2022-01-04 15:00:00', 'quantity': 15}, {'product_id': 'FP5', 'timestamp': '2022-01-04 15:00:00', 'quantity': 12}, {'product_id': 'FP6', 'timestamp': '2022-01-04 15:00:00', 'quantity': 30}, {'product_id': 'FP7', 'timestamp': '2022-01-04 15:00:00', 'quantity': 40}, {'product_id': 'FP8', 'timestamp': '2022-01-04 15:00:00', 'quantity': 33}, {'product_id': 'FP9', 'timestamp': '2022-01-04 15:00:00', 'quantity': 22}, {'product_id': 'FP10', 'timestamp': '2022-01-04 15:00:00', 'quantity': 45}, {'product_id': 'FP11', 'timestamp': '2022-01-04 15:00:00', 'quantity': 15}, {'product_id': 'FP12', 'timestamp': '2022-01-04 15:00:00', 'quantity': 20}, {'product_id': 'FP13', 'timestamp': '2022-01-04 15:00:00', 'quantity': 24}, {'product_id': 'FP14', 'timestamp': '2022-01-04 15:00:00', 'quantity': 40}, {'product_id': 'FP15', 'timestamp': '2022-01-04 15:00:00', 'quantity': 25}]}\n",
            "{'_id': 'ST5', 'name': 'Morrisons Boho', 'address': 'Unit 4, Moho Building', 'city': 'Manchester', 'post_code': 'M15 4JY', 'location': {'type': 'Point', 'coordinates': [53.4713735246263, -2.26417194876941]}, 'realtime_inventory': [{'product_id': 'FP1', 'timestamp': datetime.datetime(2023, 1, 9, 17, 31), 'quantity': 11}, {'product_id': 'FP2', 'timestamp': '2022-01-04 15:00:00', 'quantity': 15}, {'product_id': 'FP3', 'timestamp': datetime.datetime(2023, 1, 9, 18, 17), 'quantity': 16}, {'product_id': 'FP4', 'timestamp': '2022-01-04 15:00:00', 'quantity': 25}, {'product_id': 'FP5', 'timestamp': '2022-01-04 15:00:00', 'quantity': 10}, {'product_id': 'FP6', 'timestamp': '2022-01-04 15:00:00', 'quantity': 20}, {'product_id': 'FP7', 'timestamp': '2022-01-04 15:00:00', 'quantity': 40}, {'product_id': 'FP8', 'timestamp': '2022-01-04 15:00:00', 'quantity': 40}, {'product_id': 'FP9', 'timestamp': '2022-01-04 15:00:00', 'quantity': 40}, {'product_id': 'FP10', 'timestamp': '2022-01-04 15:00:00', 'quantity': 45}, {'product_id': 'FP11', 'timestamp': '2022-01-04 15:00:00', 'quantity': 25}, {'product_id': 'FP12', 'timestamp': '2022-01-04 15:00:00', 'quantity': 50}, {'product_id': 'FP13', 'timestamp': '2022-01-04 15:00:00', 'quantity': 45}, {'product_id': 'FP14', 'timestamp': '2022-01-04 15:00:00', 'quantity': 50}, {'product_id': 'FP15', 'timestamp': '2022-01-04 15:00:00', 'quantity': 25}]}\n",
            "{'_id': 'ST1', 'name': 'Morrisons Piccadilly', 'address': '19-25 Piccadilly', 'city': 'Manchester', 'post_code': 'M1 1LU', 'location': {'type': 'Point', 'coordinates': [53.4808056053302, -2.23495401192835]}, 'realtime_inventory': [{'product_id': 'FP1', 'timestamp': '2022-01-04 15:00:00', 'quantity': 1}, {'product_id': 'FP2', 'timestamp': '2022-01-04 15:00:00', 'quantity': 19}, {'product_id': 'FP3', 'timestamp': '2022-01-04 15:00:00', 'quantity': 12}, {'product_id': 'FP4', 'timestamp': '2022-01-04 15:00:00', 'quantity': 12}, {'product_id': 'FP5', 'timestamp': '2022-01-04 15:00:00', 'quantity': 21}, {'product_id': 'FP6', 'timestamp': '2022-01-04 15:00:00', 'quantity': 21}, {'product_id': 'FP7', 'timestamp': '2022-01-04 15:00:00', 'quantity': 34}, {'product_id': 'FP8', 'timestamp': '2022-01-04 15:00:00', 'quantity': 7}, {'product_id': 'FP9', 'timestamp': '2022-01-04 15:00:00', 'quantity': 60}, {'product_id': 'FP10', 'timestamp': '2022-01-04 15:00:00', 'quantity': 15}, {'product_id': 'FP11', 'timestamp': '2022-01-04 15:00:00', 'quantity': 30}, {'product_id': 'FP12', 'timestamp': '2022-01-04 15:00:00', 'quantity': 22}, {'product_id': 'FP13', 'timestamp': '2022-01-04 15:00:00', 'quantity': 40}, {'product_id': 'FP14', 'timestamp': '2022-01-04 15:00:00', 'quantity': 35}, {'product_id': 'FP15', 'timestamp': '2022-01-04 15:00:00', 'quantity': 40}]}\n"
          ]
        }
      ]
    },
    {
      "cell_type": "code",
      "source": [
        "#"
      ],
      "metadata": {
        "id": "ql1X2ZfUZH0N"
      },
      "execution_count": null,
      "outputs": []
    },
    {
      "cell_type": "code",
      "source": [
        "#"
      ],
      "metadata": {
        "id": "8LL5Ek0aZHt7"
      },
      "execution_count": null,
      "outputs": []
    }
  ]
}